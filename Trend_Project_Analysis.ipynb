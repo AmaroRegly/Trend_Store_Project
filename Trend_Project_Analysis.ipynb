{
  "cells": [
    {
      "cell_type": "markdown",
      "metadata": {
        "id": "n_uVTgJZBvJz"
      },
      "source": [
        "#Introduction\n",
        "The idea of this project is to show an analysis of Trend (fictitious store) sales in 2021. It is a clothing and accessories store whose main area of activity is in Australia."
      ]
    },
    {
      "cell_type": "markdown",
      "metadata": {
        "id": "fyZj_BSmBgjp"
      },
      "source": [
        "#Analysis Objective\n",
        "Provide Trend's marketing team with insights that can help direct the area's efforts and investments to attract new customers. In other words, providing knowledge that helps optimize all marketing actions.."
      ]
    },
    {
      "cell_type": "markdown",
      "metadata": {
        "id": "HSaWEsphEF3z"
      },
      "source": [
        "#About the data\n",
        "The analyzed data was obtained through the website [Kaggle](https://www.kaggle.com/datasets/ruchi798/shopping-cart-database/data) and is structured in 4 tables:\n",
        "\n",
        "\n",
        "* **customers:** with general information about customers\n",
        "* **orders:** with order payment data\n",
        "* **products:** with the specifications of each product\n",
        "* **sales:** with price and quantity data for each sale\n",
        "\n"
      ]
    },
    {
      "cell_type": "markdown",
      "metadata": {
        "id": "rypGOMKlGFMj"
      },
      "source": [
        "##Import of libraries and datasets"
      ]
    },
    {
      "cell_type": "code",
      "execution_count": 9,
      "metadata": {
        "id": "0XMAHe90GJbX"
      },
      "outputs": [],
      "source": [
        "import pandas as pd\n",
        "import matplotlib.pyplot as plt"
      ]
    },
    {
      "cell_type": "code",
      "execution_count": 10,
      "metadata": {
        "id": "akC70K5GGSSv"
      },
      "outputs": [],
      "source": [
        "customer_df = pd.read_csv('/content/drive/MyDrive/Data Analyst/Vendas/customers.csv')\n",
        "orders_df = pd.read_csv('/content/drive/MyDrive/Data Analyst/Vendas/orders.csv')\n",
        "product_df = pd.read_csv('/content/drive/MyDrive/Data Analyst/Vendas/products.csv')\n",
        "sales_df = pd.read_csv('/content/drive/MyDrive/Data Analyst/Vendas/sales.csv')"
      ]
    },
    {
      "cell_type": "markdown",
      "metadata": {
        "id": "2ATALyuAIFz2"
      },
      "source": [
        "##Overview of Data Cleaning"
      ]
    },
    {
      "cell_type": "code",
      "execution_count": 11,
      "metadata": {
        "colab": {
          "base_uri": "https://localhost:8080/",
          "height": 331
        },
        "id": "KDXeJjDkIMYd",
        "outputId": "7db3a9ad-bc25-45ac-8b21-c2bd65a820d8"
      },
      "outputs": [
        {
          "output_type": "stream",
          "name": "stdout",
          "text": [
            "<class 'pandas.core.frame.DataFrame'>\n",
            "RangeIndex: 1000 entries, 0 to 999\n",
            "Data columns (total 9 columns):\n",
            " #   Column         Non-Null Count  Dtype \n",
            "---  ------         --------------  ----- \n",
            " 0   customer_id    1000 non-null   int64 \n",
            " 1   customer_name  1000 non-null   object\n",
            " 2   gender         1000 non-null   object\n",
            " 3   age            1000 non-null   int64 \n",
            " 4   home_address   1000 non-null   object\n",
            " 5   zip_code       1000 non-null   int64 \n",
            " 6   city           1000 non-null   object\n",
            " 7   state          1000 non-null   object\n",
            " 8   country        1000 non-null   object\n",
            "dtypes: int64(3), object(6)\n",
            "memory usage: 70.4+ KB\n"
          ]
        },
        {
          "output_type": "execute_result",
          "data": {
            "text/plain": [
              "Empty DataFrame\n",
              "Columns: [customer_id, customer_name, gender, age, home_address, zip_code, city, state, country]\n",
              "Index: []"
            ],
            "text/html": [
              "\n",
              "  <div id=\"df-0c4a4e1a-6a68-4577-bba2-6f0fca9970c4\" class=\"colab-df-container\">\n",
              "    <div>\n",
              "<style scoped>\n",
              "    .dataframe tbody tr th:only-of-type {\n",
              "        vertical-align: middle;\n",
              "    }\n",
              "\n",
              "    .dataframe tbody tr th {\n",
              "        vertical-align: top;\n",
              "    }\n",
              "\n",
              "    .dataframe thead th {\n",
              "        text-align: right;\n",
              "    }\n",
              "</style>\n",
              "<table border=\"1\" class=\"dataframe\">\n",
              "  <thead>\n",
              "    <tr style=\"text-align: right;\">\n",
              "      <th></th>\n",
              "      <th>customer_id</th>\n",
              "      <th>customer_name</th>\n",
              "      <th>gender</th>\n",
              "      <th>age</th>\n",
              "      <th>home_address</th>\n",
              "      <th>zip_code</th>\n",
              "      <th>city</th>\n",
              "      <th>state</th>\n",
              "      <th>country</th>\n",
              "    </tr>\n",
              "  </thead>\n",
              "  <tbody>\n",
              "  </tbody>\n",
              "</table>\n",
              "</div>\n",
              "    <div class=\"colab-df-buttons\">\n",
              "\n",
              "  <div class=\"colab-df-container\">\n",
              "    <button class=\"colab-df-convert\" onclick=\"convertToInteractive('df-0c4a4e1a-6a68-4577-bba2-6f0fca9970c4')\"\n",
              "            title=\"Convert this dataframe to an interactive table.\"\n",
              "            style=\"display:none;\">\n",
              "\n",
              "  <svg xmlns=\"http://www.w3.org/2000/svg\" height=\"24px\" viewBox=\"0 -960 960 960\">\n",
              "    <path d=\"M120-120v-720h720v720H120Zm60-500h600v-160H180v160Zm220 220h160v-160H400v160Zm0 220h160v-160H400v160ZM180-400h160v-160H180v160Zm440 0h160v-160H620v160ZM180-180h160v-160H180v160Zm440 0h160v-160H620v160Z\"/>\n",
              "  </svg>\n",
              "    </button>\n",
              "\n",
              "  <style>\n",
              "    .colab-df-container {\n",
              "      display:flex;\n",
              "      gap: 12px;\n",
              "    }\n",
              "\n",
              "    .colab-df-convert {\n",
              "      background-color: #E8F0FE;\n",
              "      border: none;\n",
              "      border-radius: 50%;\n",
              "      cursor: pointer;\n",
              "      display: none;\n",
              "      fill: #1967D2;\n",
              "      height: 32px;\n",
              "      padding: 0 0 0 0;\n",
              "      width: 32px;\n",
              "    }\n",
              "\n",
              "    .colab-df-convert:hover {\n",
              "      background-color: #E2EBFA;\n",
              "      box-shadow: 0px 1px 2px rgba(60, 64, 67, 0.3), 0px 1px 3px 1px rgba(60, 64, 67, 0.15);\n",
              "      fill: #174EA6;\n",
              "    }\n",
              "\n",
              "    .colab-df-buttons div {\n",
              "      margin-bottom: 4px;\n",
              "    }\n",
              "\n",
              "    [theme=dark] .colab-df-convert {\n",
              "      background-color: #3B4455;\n",
              "      fill: #D2E3FC;\n",
              "    }\n",
              "\n",
              "    [theme=dark] .colab-df-convert:hover {\n",
              "      background-color: #434B5C;\n",
              "      box-shadow: 0px 1px 3px 1px rgba(0, 0, 0, 0.15);\n",
              "      filter: drop-shadow(0px 1px 2px rgba(0, 0, 0, 0.3));\n",
              "      fill: #FFFFFF;\n",
              "    }\n",
              "  </style>\n",
              "\n",
              "    <script>\n",
              "      const buttonEl =\n",
              "        document.querySelector('#df-0c4a4e1a-6a68-4577-bba2-6f0fca9970c4 button.colab-df-convert');\n",
              "      buttonEl.style.display =\n",
              "        google.colab.kernel.accessAllowed ? 'block' : 'none';\n",
              "\n",
              "      async function convertToInteractive(key) {\n",
              "        const element = document.querySelector('#df-0c4a4e1a-6a68-4577-bba2-6f0fca9970c4');\n",
              "        const dataTable =\n",
              "          await google.colab.kernel.invokeFunction('convertToInteractive',\n",
              "                                                    [key], {});\n",
              "        if (!dataTable) return;\n",
              "\n",
              "        const docLinkHtml = 'Like what you see? Visit the ' +\n",
              "          '<a target=\"_blank\" href=https://colab.research.google.com/notebooks/data_table.ipynb>data table notebook</a>'\n",
              "          + ' to learn more about interactive tables.';\n",
              "        element.innerHTML = '';\n",
              "        dataTable['output_type'] = 'display_data';\n",
              "        await google.colab.output.renderOutput(dataTable, element);\n",
              "        const docLink = document.createElement('div');\n",
              "        docLink.innerHTML = docLinkHtml;\n",
              "        element.appendChild(docLink);\n",
              "      }\n",
              "    </script>\n",
              "  </div>\n",
              "\n",
              "    </div>\n",
              "  </div>\n"
            ]
          },
          "metadata": {},
          "execution_count": 11
        }
      ],
      "source": [
        "customer_df.info() #view dataframe information\n",
        "customer_df[customer_df.duplicated()] #identify duplicate data in the dataframe"
      ]
    },
    {
      "cell_type": "code",
      "execution_count": 4,
      "metadata": {
        "colab": {
          "base_uri": "https://localhost:8080/"
        },
        "id": "hAAF-LMiIq13",
        "outputId": "fd9385a0-5a33-4f9f-ecb1-99f6aed13804"
      },
      "outputs": [
        {
          "output_type": "stream",
          "name": "stdout",
          "text": [
            "<class 'pandas.core.frame.DataFrame'>\n",
            "RangeIndex: 1000 entries, 0 to 999\n",
            "Data columns (total 5 columns):\n",
            " #   Column         Non-Null Count  Dtype \n",
            "---  ------         --------------  ----- \n",
            " 0   order_id       1000 non-null   int64 \n",
            " 1   customer_id    1000 non-null   int64 \n",
            " 2   payment        1000 non-null   int64 \n",
            " 3   order_date     1000 non-null   object\n",
            " 4   delivery_date  1000 non-null   object\n",
            "dtypes: int64(3), object(2)\n",
            "memory usage: 39.2+ KB\n",
            "<class 'pandas.core.frame.DataFrame'>\n",
            "RangeIndex: 1000 entries, 0 to 999\n",
            "Data columns (total 5 columns):\n",
            " #   Column         Non-Null Count  Dtype         \n",
            "---  ------         --------------  -----         \n",
            " 0   order_id       1000 non-null   int64         \n",
            " 1   customer_id    1000 non-null   int64         \n",
            " 2   payment        1000 non-null   int64         \n",
            " 3   order_date     1000 non-null   datetime64[ns]\n",
            " 4   delivery_date  1000 non-null   datetime64[ns]\n",
            "dtypes: datetime64[ns](2), int64(3)\n",
            "memory usage: 39.2 KB\n"
          ]
        }
      ],
      "source": [
        "orders_df.info() #view dataframe information\n",
        "orders_df[orders_df.duplicated()] #identify duplicate data in the dataframe\n",
        "orders_df['delivery_date'] = pd.to_datetime(orders_df['delivery_date']) #convert column type from object to datetime\n",
        "orders_df['order_date'] = pd.to_datetime(orders_df['order_date']) #convert column type from object to datetime\n",
        "orders_df.info() #view dataframe information after changes"
      ]
    },
    {
      "cell_type": "code",
      "execution_count": 28,
      "metadata": {
        "colab": {
          "base_uri": "https://localhost:8080/"
        },
        "id": "Npv1-NSMIut9",
        "outputId": "48b5049e-a15d-40ee-d847-2273722e180d"
      },
      "outputs": [
        {
          "output_type": "stream",
          "name": "stdout",
          "text": [
            "<class 'pandas.core.frame.DataFrame'>\n",
            "RangeIndex: 1260 entries, 0 to 1259\n",
            "Data columns (total 8 columns):\n",
            " #   Column        Non-Null Count  Dtype \n",
            "---  ------        --------------  ----- \n",
            " 0   product_ID    1260 non-null   int64 \n",
            " 1   product_type  1260 non-null   object\n",
            " 2   product_name  1260 non-null   object\n",
            " 3   size          1260 non-null   object\n",
            " 4   colour        1260 non-null   object\n",
            " 5   price         1260 non-null   int64 \n",
            " 6   quantity      1260 non-null   int64 \n",
            " 7   description   1260 non-null   object\n",
            "dtypes: int64(3), object(5)\n",
            "memory usage: 78.9+ KB\n",
            "<class 'pandas.core.frame.DataFrame'>\n",
            "RangeIndex: 1260 entries, 0 to 1259\n",
            "Data columns (total 8 columns):\n",
            " #   Column        Non-Null Count  Dtype  \n",
            "---  ------        --------------  -----  \n",
            " 0   product_id    1260 non-null   int64  \n",
            " 1   product_type  1260 non-null   object \n",
            " 2   product_name  1260 non-null   object \n",
            " 3   size          1260 non-null   object \n",
            " 4   colour        1260 non-null   object \n",
            " 5   price         1260 non-null   float64\n",
            " 6   stock         1260 non-null   int64  \n",
            " 7   description   1260 non-null   object \n",
            "dtypes: float64(1), int64(2), object(5)\n",
            "memory usage: 78.9+ KB\n"
          ]
        }
      ],
      "source": [
        "product_df.info() #view dataframe information\n",
        "product_df[product_df.duplicated()] #identify duplicate data in the dataframe\n",
        "product_df.rename(columns={'product_ID' : 'product_id'}, inplace=True) #Normalization of column name from product_ID to product_id\n",
        "product_df.rename(columns={'quantity' : 'stock'}, inplace=True) #Normalization of column name from product_ID to product_id\n",
        "product_df['price'] = product_df['price'].astype(float) #because it is a monetary value, we convert the type from int to float\n",
        "product_df.info() #view dataframe information after changes"
      ]
    },
    {
      "cell_type": "code",
      "execution_count": 6,
      "metadata": {
        "colab": {
          "base_uri": "https://localhost:8080/"
        },
        "id": "S8oeIyCHI-JU",
        "outputId": "29bb2edb-921e-45b9-9fa5-871302314f2c"
      },
      "outputs": [
        {
          "output_type": "stream",
          "name": "stdout",
          "text": [
            "<class 'pandas.core.frame.DataFrame'>\n",
            "RangeIndex: 5000 entries, 0 to 4999\n",
            "Data columns (total 6 columns):\n",
            " #   Column          Non-Null Count  Dtype\n",
            "---  ------          --------------  -----\n",
            " 0   sales_id        5000 non-null   int64\n",
            " 1   order_id        5000 non-null   int64\n",
            " 2   product_id      5000 non-null   int64\n",
            " 3   price_per_unit  5000 non-null   int64\n",
            " 4   quantity        5000 non-null   int64\n",
            " 5   total_price     5000 non-null   int64\n",
            "dtypes: int64(6)\n",
            "memory usage: 234.5 KB\n",
            "<class 'pandas.core.frame.DataFrame'>\n",
            "RangeIndex: 5000 entries, 0 to 4999\n",
            "Data columns (total 6 columns):\n",
            " #   Column          Non-Null Count  Dtype  \n",
            "---  ------          --------------  -----  \n",
            " 0   sales_id        5000 non-null   int64  \n",
            " 1   order_id        5000 non-null   int64  \n",
            " 2   product_id      5000 non-null   int64  \n",
            " 3   price_per_unit  5000 non-null   float64\n",
            " 4   quantity        5000 non-null   int64  \n",
            " 5   total_price     5000 non-null   float64\n",
            "dtypes: float64(2), int64(4)\n",
            "memory usage: 234.5 KB\n"
          ]
        }
      ],
      "source": [
        "sales_df.info() #view dataframe information\n",
        "sales_df[sales_df.duplicated()] #identify duplicate data in the dataframe\n",
        "for atributo in ['price_per_unit', 'total_price']: sales_df[atributo] = sales_df[atributo].astype(float) #because it is a monetary value, we convert the type from int to float\n",
        "sales_df.info() #view dataframe information after changes"
      ]
    },
    {
      "cell_type": "code",
      "execution_count": 31,
      "metadata": {
        "id": "9HyZ3wAm6zSV"
      },
      "outputs": [],
      "source": [
        "best_sellers = general_df[['product_name' , 'product_type', 'total_price']].groupby('product_name').total_price.sum().sort_values(ascending=False)"
      ]
    },
    {
      "cell_type": "code",
      "execution_count": 32,
      "metadata": {
        "colab": {
          "base_uri": "https://localhost:8080/",
          "height": 556
        },
        "id": "VuCh9b0l-w7Q",
        "outputId": "3594a5fc-7b70-4c23-c606-66d7341bfab7"
      },
      "outputs": [
        {
          "output_type": "display_data",
          "data": {
            "text/plain": [
              "<Figure size 1500x500 with 1 Axes>"
            ],
            "image/png": "[encoded data removed]"
          },
          "metadata": {}
        }
      ],
      "source": [
        "#When analyzing the result, we can see that the product \"De Um\" stands out from the others, being an outlier in this query.\n",
        "plt.figure(figsize=(15,5))\n",
        "plt.bar(best_sellers.index , best_sellers.values)\n",
        "plt.xticks(rotation=90)\n",
        "plt.show()"
      ]
    },
    {
      "cell_type": "markdown",
      "metadata": {
        "id": "Szadvo50R8J2"
      },
      "source": [
        "## Data Fusion"
      ]
    },
    {
      "cell_type": "code",
      "execution_count": 29,
      "metadata": {
        "id": "vxYG_iG2fPic"
      },
      "outputs": [],
      "source": [
        "general_df = sales_df.merge(product_df, how='inner', left_on='product_id', right_on='product_id')\n",
        "general_df = general_df.merge(orders_df, how='inner', left_on='order_id', right_on='order_id')\n",
        "general_df = general_df.merge(customer_df, how='inner', left_on='customer_id', right_on='customer_id')\n"
      ]
    },
    {
      "cell_type": "code",
      "execution_count": 33,
      "metadata": {
        "id": "6Lj1Dsywhlzw",
        "colab": {
          "base_uri": "https://localhost:8080/",
          "height": 654
        },
        "outputId": "0f10dbff-da8a-4c19-c25a-12719db4febe"
      },
      "outputs": [
        {
          "output_type": "stream",
          "name": "stdout",
          "text": [
            "<class 'pandas.core.frame.DataFrame'>\n",
            "Int64Index: 5000 entries, 0 to 4999\n",
            "Data columns (total 25 columns):\n",
            " #   Column          Non-Null Count  Dtype  \n",
            "---  ------          --------------  -----  \n",
            " 0   sales_id        5000 non-null   int64  \n",
            " 1   order_id        5000 non-null   int64  \n",
            " 2   product_id      5000 non-null   int64  \n",
            " 3   price_per_unit  5000 non-null   int64  \n",
            " 4   quantity        5000 non-null   int64  \n",
            " 5   total_price     5000 non-null   int64  \n",
            " 6   product_type    5000 non-null   object \n",
            " 7   product_name    5000 non-null   object \n",
            " 8   size            5000 non-null   object \n",
            " 9   colour          5000 non-null   object \n",
            " 10  price           5000 non-null   float64\n",
            " 11  stock           5000 non-null   int64  \n",
            " 12  description     5000 non-null   object \n",
            " 13  customer_id     5000 non-null   int64  \n",
            " 14  payment         5000 non-null   int64  \n",
            " 15  order_date      5000 non-null   object \n",
            " 16  delivery_date   5000 non-null   object \n",
            " 17  customer_name   5000 non-null   object \n",
            " 18  gender          5000 non-null   object \n",
            " 19  age             5000 non-null   int64  \n",
            " 20  home_address    5000 non-null   object \n",
            " 21  zip_code        5000 non-null   int64  \n",
            " 22  city            5000 non-null   object \n",
            " 23  state           5000 non-null   object \n",
            " 24  country         5000 non-null   object \n",
            "dtypes: float64(1), int64(11), object(13)\n",
            "memory usage: 1015.6+ KB\n"
          ]
        },
        {
          "output_type": "execute_result",
          "data": {
            "text/plain": [
              "Empty DataFrame\n",
              "Columns: [sales_id, order_id, product_id, price_per_unit, quantity, total_price, product_type, product_name, size, colour, price, stock, description, customer_id, payment, order_date, delivery_date, customer_name, gender, age, home_address, zip_code, city, state, country]\n",
              "Index: []\n",
              "\n",
              "[0 rows x 25 columns]"
            ],
            "text/html": [
              "\n",
              "  <div id=\"df-818164fd-1144-4f4d-8366-de5527670c25\" class=\"colab-df-container\">\n",
              "    <div>\n",
              "<style scoped>\n",
              "    .dataframe tbody tr th:only-of-type {\n",
              "        vertical-align: middle;\n",
              "    }\n",
              "\n",
              "    .dataframe tbody tr th {\n",
              "        vertical-align: top;\n",
              "    }\n",
              "\n",
              "    .dataframe thead th {\n",
              "        text-align: right;\n",
              "    }\n",
              "</style>\n",
              "<table border=\"1\" class=\"dataframe\">\n",
              "  <thead>\n",
              "    <tr style=\"text-align: right;\">\n",
              "      <th></th>\n",
              "      <th>sales_id</th>\n",
              "      <th>order_id</th>\n",
              "      <th>product_id</th>\n",
              "      <th>price_per_unit</th>\n",
              "      <th>quantity</th>\n",
              "      <th>total_price</th>\n",
              "      <th>product_type</th>\n",
              "      <th>product_name</th>\n",
              "      <th>size</th>\n",
              "      <th>colour</th>\n",
              "      <th>...</th>\n",
              "      <th>order_date</th>\n",
              "      <th>delivery_date</th>\n",
              "      <th>customer_name</th>\n",
              "      <th>gender</th>\n",
              "      <th>age</th>\n",
              "      <th>home_address</th>\n",
              "      <th>zip_code</th>\n",
              "      <th>city</th>\n",
              "      <th>state</th>\n",
              "      <th>country</th>\n",
              "    </tr>\n",
              "  </thead>\n",
              "  <tbody>\n",
              "  </tbody>\n",
              "</table>\n",
              "<p>0 rows × 25 columns</p>\n",
              "</div>\n",
              "    <div class=\"colab-df-buttons\">\n",
              "\n",
              "  <div class=\"colab-df-container\">\n",
              "    <button class=\"colab-df-convert\" onclick=\"convertToInteractive('df-818164fd-1144-4f4d-8366-de5527670c25')\"\n",
              "            title=\"Convert this dataframe to an interactive table.\"\n",
              "            style=\"display:none;\">\n",
              "\n",
              "  <svg xmlns=\"http://www.w3.org/2000/svg\" height=\"24px\" viewBox=\"0 -960 960 960\">\n",
              "    <path d=\"M120-120v-720h720v720H120Zm60-500h600v-160H180v160Zm220 220h160v-160H400v160Zm0 220h160v-160H400v160ZM180-400h160v-160H180v160Zm440 0h160v-160H620v160ZM180-180h160v-160H180v160Zm440 0h160v-160H620v160Z\"/>\n",
              "  </svg>\n",
              "    </button>\n",
              "\n",
              "  <style>\n",
              "    .colab-df-container {\n",
              "      display:flex;\n",
              "      gap: 12px;\n",
              "    }\n",
              "\n",
              "    .colab-df-convert {\n",
              "      background-color: #E8F0FE;\n",
              "      border: none;\n",
              "      border-radius: 50%;\n",
              "      cursor: pointer;\n",
              "      display: none;\n",
              "      fill: #1967D2;\n",
              "      height: 32px;\n",
              "      padding: 0 0 0 0;\n",
              "      width: 32px;\n",
              "    }\n",
              "\n",
              "    .colab-df-convert:hover {\n",
              "      background-color: #E2EBFA;\n",
              "      box-shadow: 0px 1px 2px rgba(60, 64, 67, 0.3), 0px 1px 3px 1px rgba(60, 64, 67, 0.15);\n",
              "      fill: #174EA6;\n",
              "    }\n",
              "\n",
              "    .colab-df-buttons div {\n",
              "      margin-bottom: 4px;\n",
              "    }\n",
              "\n",
              "    [theme=dark] .colab-df-convert {\n",
              "      background-color: #3B4455;\n",
              "      fill: #D2E3FC;\n",
              "    }\n",
              "\n",
              "    [theme=dark] .colab-df-convert:hover {\n",
              "      background-color: #434B5C;\n",
              "      box-shadow: 0px 1px 3px 1px rgba(0, 0, 0, 0.15);\n",
              "      filter: drop-shadow(0px 1px 2px rgba(0, 0, 0, 0.3));\n",
              "      fill: #FFFFFF;\n",
              "    }\n",
              "  </style>\n",
              "\n",
              "    <script>\n",
              "      const buttonEl =\n",
              "        document.querySelector('#df-818164fd-1144-4f4d-8366-de5527670c25 button.colab-df-convert');\n",
              "      buttonEl.style.display =\n",
              "        google.colab.kernel.accessAllowed ? 'block' : 'none';\n",
              "\n",
              "      async function convertToInteractive(key) {\n",
              "        const element = document.querySelector('#df-818164fd-1144-4f4d-8366-de5527670c25');\n",
              "        const dataTable =\n",
              "          await google.colab.kernel.invokeFunction('convertToInteractive',\n",
              "                                                    [key], {});\n",
              "        if (!dataTable) return;\n",
              "\n",
              "        const docLinkHtml = 'Like what you see? Visit the ' +\n",
              "          '<a target=\"_blank\" href=https://colab.research.google.com/notebooks/data_table.ipynb>data table notebook</a>'\n",
              "          + ' to learn more about interactive tables.';\n",
              "        element.innerHTML = '';\n",
              "        dataTable['output_type'] = 'display_data';\n",
              "        await google.colab.output.renderOutput(dataTable, element);\n",
              "        const docLink = document.createElement('div');\n",
              "        docLink.innerHTML = docLinkHtml;\n",
              "        element.appendChild(docLink);\n",
              "      }\n",
              "    </script>\n",
              "  </div>\n",
              "\n",
              "    </div>\n",
              "  </div>\n"
            ]
          },
          "metadata": {},
          "execution_count": 33
        }
      ],
      "source": [
        "general_df.info()\n",
        "general_df[general_df.duplicated()]"
      ]
    },
    {
      "cell_type": "code",
      "source": [
        "general_df.head()"
      ],
      "metadata": {
        "colab": {
          "base_uri": "https://localhost:8080/",
          "height": 175
        },
        "id": "JUV1lwQ60qyb",
        "outputId": "81bbad2f-ea1b-4926-8681-9f36279f4eb9"
      },
      "execution_count": 17,
      "outputs": [
        {
          "output_type": "error",
          "ename": "NameError",
          "evalue": "ignored",
          "traceback": [
            "\u001b[0;31m---------------------------------------------------------------------------\u001b[0m",
            "\u001b[0;31mNameError\u001b[0m                                 Traceback (most recent call last)",
            "\u001b[0;32m<ipython-input-17-40715fea2af9>\u001b[0m in \u001b[0;36m<cell line: 1>\u001b[0;34m()\u001b[0m\n\u001b[0;32m----> 1\u001b[0;31m \u001b[0mgeneral_df\u001b[0m\u001b[0;34m.\u001b[0m\u001b[0mhead\u001b[0m\u001b[0;34m(\u001b[0m\u001b[0;34m)\u001b[0m\u001b[0;34m\u001b[0m\u001b[0;34m\u001b[0m\u001b[0m\n\u001b[0m",
            "\u001b[0;31mNameError\u001b[0m: name 'general_df' is not defined"
          ]
        }
      ]
    },
    {
      "cell_type": "markdown",
      "metadata": {
        "id": "SeAXJLZfkYFz"
      },
      "source": [
        "#Data exploration"
      ]
    },
    {
      "cell_type": "markdown",
      "metadata": {
        "id": "-TelFktm_8KE"
      },
      "source": [
        "##What is the overall sales performance throughout 2021?"
      ]
    },
    {
      "cell_type": "code",
      "source": [
        "total_sales = general_df['total_price'].sum()\n",
        "print(f'Total revenue in 2021 was ${total_sales}')"
      ],
      "metadata": {
        "colab": {
          "base_uri": "https://localhost:8080/"
        },
        "id": "VFRSjDxnKmTI",
        "outputId": "1948acba-4bf2-4ec8-9f2e-b719152ca39b"
      },
      "execution_count": 51,
      "outputs": [
        {
          "output_type": "stream",
          "name": "stdout",
          "text": [
            "Total revenue in 2021 was $1031800\n"
          ]
        }
      ]
    },
    {
      "cell_type": "markdown",
      "source": [
        "##What is the average ticket in 2021?\n",
        "\n"
      ],
      "metadata": {
        "id": "Oivfw3TkIBfC"
      }
    },
    {
      "cell_type": "code",
      "source": [
        "avg_ticket = (general_df['total_price'].sum()) / (general_df['quantity'].sum())\n",
        "print(f'The average ticket in 2021 was ${avg_ticket:.2f}')"
      ],
      "metadata": {
        "colab": {
          "base_uri": "https://localhost:8080/"
        },
        "id": "_wUrqnJDIFjw",
        "outputId": "a879e976-50d1-476d-8b16-3f11a6130c39"
      },
      "execution_count": 54,
      "outputs": [
        {
          "output_type": "stream",
          "name": "stdout",
          "text": [
            "The average ticket in 2021 was $103.57\n"
          ]
        }
      ]
    },
    {
      "cell_type": "code",
      "execution_count": null,
      "metadata": {
        "id": "1nBAG6nrBp7c"
      },
      "outputs": [],
      "source": [
        "general_df['month_order'] = general_df['order_date'].dt.month\n",
        "sales_2021 = general_df[['month_order' , 'total_price']].groupby('month_order').total_price.sum().sort_values(ascending=False)\n",
        "sales_2021"
      ]
    },
    {
      "cell_type": "code",
      "execution_count": null,
      "metadata": {
        "id": "tCSDiPDBENzY"
      },
      "outputs": [],
      "source": [
        "plt.figure(figsize=(15,5))\n",
        "plt.bar(sales_2021.index, sales_2021.values)\n",
        "plt.xlabel('Período')\n",
        "plt.ylabel('Vendas')\n",
        "plt.title('Vendas em 2021')\n",
        "\n",
        "plt.show()\n",
        "\n",
        "\n"
      ]
    },
    {
      "cell_type": "markdown",
      "source": [
        "### Comments\n",
        "* More than 120.000 revenue in March\n",
        "* Slowdown in sales in October (which could lead to low sales at the end of the year and festive season)\n",
        "* February, May and October with revenue below 100.000 text in italics\n",
        "\n",
        "\n",
        "\n"
      ],
      "metadata": {
        "id": "6-4pm5Hb4hdS"
      }
    },
    {
      "cell_type": "markdown",
      "metadata": {
        "id": "Pt7-HxocAKE8"
      },
      "source": [
        "##Which product categories have the highest revenue?"
      ]
    },
    {
      "cell_type": "code",
      "execution_count": null,
      "metadata": {
        "id": "cJzZ7kqYJN3m"
      },
      "outputs": [],
      "source": [
        "product_type = general_df[['product_type' , 'total_price']].groupby('product_type').total_price.sum().sort_values(ascending=False)\n",
        "product_type"
      ]
    },
    {
      "cell_type": "code",
      "execution_count": null,
      "metadata": {
        "id": "73CuJLmwJz_c"
      },
      "outputs": [],
      "source": [
        "plt.figure(figsize=(15,5))\n",
        "plt.bar(product_type.index , product_type.values)"
      ]
    },
    {
      "cell_type": "markdown",
      "source": [
        "###Comments:\n",
        "* All 3 types of Trend products have similar recipes when analyzed by type."
      ],
      "metadata": {
        "id": "DRRQHCpd7ZWy"
      }
    },
    {
      "cell_type": "markdown",
      "metadata": {
        "id": "npqQdK-ilSjh"
      },
      "source": [
        "### What are the products that **BEST SELL** and are our \"champions\"? And which products SELL LESS so we can boost them."
      ]
    },
    {
      "cell_type": "code",
      "execution_count": null,
      "metadata": {
        "id": "E3sW7vJahoLK"
      },
      "outputs": [],
      "source": [
        "best_sellers = general_df[['product_name', 'product_type', 'total_price']].groupby(['product_name', 'product_type']).total_price.sum().reset_index().sort_values(by='total_price', ascending=False)\n",
        "best_sellers"
      ]
    },
    {
      "cell_type": "code",
      "execution_count": null,
      "metadata": {
        "id": "F1AN657h5zLg"
      },
      "outputs": [],
      "source": [
        "#In a more in-depth analysis, we separated the products by type and name. In this, we noticed that the product \"Demin\" has 2 types and the combined revenue of the two types made it an outlier. Now we have the result of total revenue by product and type.\n",
        "plt.figure(figsize=(12, 6))\n",
        "plt.bar(x=best_sellers['product_name'] + ', ' + best_sellers['product_type'], height=best_sellers['total_price'])\n",
        "plt.title('Revenue per Product')\n",
        "plt.xlabel('Name of product and Type')\n",
        "plt.ylabel('Sales amount')\n",
        "plt.xticks(rotation=90)\n",
        "plt.show()"
      ]
    },
    {
      "cell_type": "markdown",
      "source": [
        "###Comments:\n",
        "* 4 products stand out in generating revenue. Turning over 35,000 in the year\n",
        "* \"Cords, Trousers\" is the worst product when it comes to revenue generation, earning less than 25,000 in the year.\n",
        "* Other products are between 25,000 and 35,000 in revenue generation per year."
      ],
      "metadata": {
        "id": "3t9xw1yU75tm"
      }
    },
    {
      "cell_type": "markdown",
      "metadata": {
        "id": "JSww5QfwA04W"
      },
      "source": [
        "##Which products are best sold in combination? Can we create special packages or promotions with these products?"
      ]
    },
    {
      "cell_type": "code",
      "execution_count": null,
      "metadata": {
        "id": "7yJdFYM8E9vO"
      },
      "outputs": [],
      "source": [
        "quantity_product = general_df[['product_name' , 'product_type' , 'quantity_x']].groupby(['product_name', 'product_type']).quantity_x.sum().reset_index().sort_values(by='quantity_x', ascending=False)\n",
        "quantity_product"
      ]
    },
    {
      "cell_type": "code",
      "execution_count": null,
      "metadata": {
        "id": "cNI0CvHhGHRe"
      },
      "outputs": [],
      "source": [
        "plt.figure(figsize=(12, 6))\n",
        "plt.bar(x=quantity_product['product_name'] + ', ' + quantity_product['product_type'], height=quantity_product['quantity_x'])\n",
        "plt.title('Best Selling Products by Type')\n",
        "plt.xlabel('Product Name and Type')\n",
        "plt.ylabel('Sales amount')\n",
        "plt.xticks(rotation=90)\n",
        "plt.show()"
      ]
    },
    {
      "cell_type": "markdown",
      "metadata": {
        "id": "KvQSH7sAAS8i"
      },
      "source": [
        "##Who are the main customers in terms of purchases? Is there a pattern of recurring purchases from some customers?"
      ]
    },
    {
      "cell_type": "markdown",
      "metadata": {
        "id": "VrYIvFYWqdNm"
      },
      "source": [
        "###Top 5 customers by overall revenue"
      ]
    },
    {
      "cell_type": "code",
      "execution_count": null,
      "metadata": {
        "id": "GJ_XUMHqZyUX"
      },
      "outputs": [],
      "source": [
        "top_customer = general_df[['customer_name', 'total_price']].groupby('customer_name').total_price.sum().sort_values(ascending=False).head(10).reset_index()\n",
        "top_customer"
      ]
    },
    {
      "cell_type": "code",
      "source": [
        "total_top_customer = top_customer['total_price'].sum()\n",
        "impact_top_cutomers = (total_top_customer * 100) / total_sales\n",
        "print(f'The top 10 best customers represent {impact_top_cutomers:.2f}% of our revenue in 2021')"
      ],
      "metadata": {
        "id": "7lep5h4cd-Ty"
      },
      "execution_count": null,
      "outputs": []
    },
    {
      "cell_type": "markdown",
      "metadata": {
        "id": "2Yvh1jPqg-rd"
      },
      "source": [
        "###Quantity purchased by the top 10 customers"
      ]
    },
    {
      "cell_type": "code",
      "execution_count": null,
      "metadata": {
        "id": "Aacd2QbnVNDy"
      },
      "outputs": [],
      "source": [
        "top_customer_details = pd.merge(general_df, top_customer[['customer_name']], on='customer_name')\n",
        "top_customer_details[['customer_name' , 'product_name', 'quantity_x']].groupby('customer_name').quantity_x.sum( ).sort_values(ascending=False)"
      ]
    },
    {
      "cell_type": "markdown",
      "metadata": {
        "id": "-v8S0EaniwUA"
      },
      "source": [
        "###Number of orders from the top 10 customers"
      ]
    },
    {
      "cell_type": "code",
      "execution_count": null,
      "metadata": {
        "id": "tW_kYfyNhNdx"
      },
      "outputs": [],
      "source": [
        "top_customer_details[['customer_name' , 'order_id']].groupby('customer_name').order_id.count( ).sort_values(ascending=False)"
      ]
    },
    {
      "cell_type": "markdown",
      "metadata": {
        "id": "_umSNGCjmDXi"
      },
      "source": [
        "##Sales by state\n"
      ]
    },
    {
      "cell_type": "code",
      "execution_count": null,
      "metadata": {
        "id": "IpHok8NNmEeN"
      },
      "outputs": [],
      "source": [
        "revenue_state = general_df[['state', 'total_price']].groupby('state').total_price.sum().sort_values(ascending=False)\n",
        "revenue_state"
      ]
    },
    {
      "cell_type": "code",
      "execution_count": null,
      "metadata": {
        "id": "UAXufrLhO_OV"
      },
      "outputs": [],
      "source": [
        "plt.figure(figsize=(15,5))\n",
        "plt.bar(revenue_state.index , revenue_state.values)"
      ]
    },
    {
      "cell_type": "markdown",
      "metadata": {
        "id": "kMZD2cXHV57B"
      },
      "source": [
        "##Sales by gender"
      ]
    },
    {
      "cell_type": "code",
      "execution_count": null,
      "metadata": {
        "id": "EPK22r1dV86W"
      },
      "outputs": [],
      "source": [
        "gender_revenue = general_df[['gender', 'total_price']].groupby('gender').total_price.sum().sort_values(ascending=False)\n",
        "gender_revenue"
      ]
    },
    {
      "cell_type": "code",
      "execution_count": null,
      "metadata": {
        "id": "7hA0ZEdRXjsy"
      },
      "outputs": [],
      "source": [
        "plt.figure(figsize=(15,5))\n",
        "plt.bar(gender_revenue.index , gender_revenue.values)"
      ]
    },
    {
      "cell_type": "markdown",
      "metadata": {
        "id": "n5dT54EuYRoG"
      },
      "source": [
        "##How many products on average did customers buy in 2021?\n"
      ]
    },
    {
      "cell_type": "code",
      "execution_count": null,
      "metadata": {
        "id": "T48astsUYTpD"
      },
      "outputs": [],
      "source": [
        "avg_qtd = general_df['quantity_x'].mean()\n",
        "print(f'Customers bought {avg_qtd:.1f} products on average in 2021')"
      ]
    },
    {
      "cell_type": "markdown",
      "metadata": {
        "id": "vY90aS7sSTBI"
      },
      "source": [
        "##Average age of our customers"
      ]
    },
    {
      "cell_type": "code",
      "execution_count": null,
      "metadata": {
        "id": "lOxAIjMNnZH_"
      },
      "outputs": [],
      "source": [
        "avg_age = customer_df['age'].mean()\n",
        "print(f'The average age of our customers in 2021 was {avg_age:.1f} years')"
      ]
    },
    {
      "cell_type": "markdown",
      "metadata": {
        "id": "h4X_7r8yUDX1"
      },
      "source": [
        "##Average delivery time"
      ]
    },
    {
      "cell_type": "code",
      "execution_count": null,
      "metadata": {
        "id": "PCAfVTUSnbt0"
      },
      "outputs": [],
      "source": [
        "general_df['delivery_time'] = (general_df.delivery_date - general_df.order_date).dt.days\n",
        "avg_dly_time = general_df['delivery_time'].mean()\n",
        "print(f'Average delivery time is {avg_dly_time:.1f} days')"
      ]
    },
    {
      "cell_type": "markdown",
      "metadata": {
        "id": "E3Z4DZKhbMiv"
      },
      "source": [
        "##Sales by size"
      ]
    },
    {
      "cell_type": "code",
      "execution_count": null,
      "metadata": {
        "id": "Hg5ytnf0WGnT"
      },
      "outputs": [],
      "source": [
        "general_df[['size' , 'quantity_x']].groupby('size').quantity_x.sum().sort_values(ascending=False)"
      ]
    },
    {
      "cell_type": "markdown",
      "metadata": {
        "id": "cOGUVfyFqu0e"
      },
      "source": [
        "##Sales by color"
      ]
    },
    {
      "cell_type": "code",
      "execution_count": null,
      "metadata": {
        "id": "WOAn5MXfqxjV"
      },
      "outputs": [],
      "source": [
        "general_df[['colour' , 'total_price']].groupby('colour').total_price.sum().sort_values(ascending=False)"
      ]
    },
    {
      "cell_type": "markdown",
      "source": [
        "#Action proposal\n",
        "* Opportunity for campaigns to boost sales at the end of the year.\n",
        "* Continue investing in the LGBTQIA+ public as they are a large part of our revenue. Perhaps with specific campaigns.\n",
        "* Trying to invest in logistics to reduce the average delivery time, which is one of our competitive differentiators.\n",
        "* Aim for revenue greater than 100,000\n",
        "* Increase the quantity per custumer"
      ],
      "metadata": {
        "id": "JPAOE1LD6tX0"
      }
    },
    {
      "cell_type": "code",
      "source": [],
      "metadata": {
        "id": "J8B2IowhMO18"
      },
      "execution_count": null,
      "outputs": []
    },
    {
      "cell_type": "markdown",
      "source": [
        "#Persona\n",
        "\n",
        "* Women aged around 48 who live in large centers in Australia (South Australia or Queensland)\n",
        "* LGBTQIA+ people aged around 48 who live in large centers in Australia."
      ],
      "metadata": {
        "id": "LyzuiyRJqIrT"
      }
    },
    {
      "cell_type": "code",
      "source": [
        "general_df"
      ],
      "metadata": {
        "id": "cBK66q-tSIfE",
        "colab": {
          "base_uri": "https://localhost:8080/",
          "height": 175
        },
        "outputId": "799729b0-fed6-4fdb-9164-2ef173ecff12"
      },
      "execution_count": 8,
      "outputs": [
        {
          "output_type": "error",
          "ename": "NameError",
          "evalue": "ignored",
          "traceback": [
            "\u001b[0;31m---------------------------------------------------------------------------\u001b[0m",
            "\u001b[0;31mNameError\u001b[0m                                 Traceback (most recent call last)",
            "\u001b[0;32m<ipython-input-8-b7b6719547a5>\u001b[0m in \u001b[0;36m<cell line: 1>\u001b[0;34m()\u001b[0m\n\u001b[0;32m----> 1\u001b[0;31m \u001b[0mgeneral_df\u001b[0m\u001b[0;34m\u001b[0m\u001b[0;34m\u001b[0m\u001b[0m\n\u001b[0m",
            "\u001b[0;31mNameError\u001b[0m: name 'general_df' is not defined"
          ]
        }
      ]
    },
    {
      "cell_type": "code",
      "source": [
        "general_df['avg_ticket'] = (general_df.total_price) / (general_df.quantity)\n",
        "general_df.head()"
      ],
      "metadata": {
        "colab": {
          "base_uri": "https://localhost:8080/",
          "height": 429
        },
        "id": "n2xcDLydTigR",
        "outputId": "3c927949-da1f-4bc9-f824-ec0e685cb20a"
      },
      "execution_count": 47,
      "outputs": [
        {
          "output_type": "execute_result",
          "data": {
            "text/plain": [
              "   sales_id  order_id  product_id  price_per_unit  quantity  total_price  \\\n",
              "0         0         1         218             106         2          212   \n",
              "1         1         1         481             118         1          118   \n",
              "2         2         1           2              96         3          288   \n",
              "3         3         1        1002             106         2          212   \n",
              "4         4         1         691             113         3          339   \n",
              "\n",
              "  product_type  product_name size  colour  ...  delivery_date  \\\n",
              "0        Shirt      Chambray    L  orange  ...     2021-09-24   \n",
              "1       Jacket        Puffer    S  indigo  ...     2021-09-24   \n",
              "2        Shirt  Oxford Cloth    M     red  ...     2021-09-24   \n",
              "3     Trousers          Wool    M    blue  ...     2021-09-24   \n",
              "4       Jacket         Parka    S  indigo  ...     2021-09-24   \n",
              "\n",
              "      customer_name       gender  age               home_address zip_code  \\\n",
              "0  Annabella Devote  Genderfluid   75  4927 Alice MeadowApt. 960     7787   \n",
              "1  Annabella Devote  Genderfluid   75  4927 Alice MeadowApt. 960     7787   \n",
              "2  Annabella Devote  Genderfluid   75  4927 Alice MeadowApt. 960     7787   \n",
              "3  Annabella Devote  Genderfluid   75  4927 Alice MeadowApt. 960     7787   \n",
              "4  Annabella Devote  Genderfluid   75  4927 Alice MeadowApt. 960     7787   \n",
              "\n",
              "             city            state    country  avg_ticket  \n",
              "0  Sanfordborough  South Australia  Australia       106.0  \n",
              "1  Sanfordborough  South Australia  Australia       118.0  \n",
              "2  Sanfordborough  South Australia  Australia        96.0  \n",
              "3  Sanfordborough  South Australia  Australia       106.0  \n",
              "4  Sanfordborough  South Australia  Australia       113.0  \n",
              "\n",
              "[5 rows x 26 columns]"
            ],
            "text/html": [
              "\n",
              "  <div id=\"df-d779ece1-27fe-4f33-9177-0fa9d77adf77\" class=\"colab-df-container\">\n",
              "    <div>\n",
              "<style scoped>\n",
              "    .dataframe tbody tr th:only-of-type {\n",
              "        vertical-align: middle;\n",
              "    }\n",
              "\n",
              "    .dataframe tbody tr th {\n",
              "        vertical-align: top;\n",
              "    }\n",
              "\n",
              "    .dataframe thead th {\n",
              "        text-align: right;\n",
              "    }\n",
              "</style>\n",
              "<table border=\"1\" class=\"dataframe\">\n",
              "  <thead>\n",
              "    <tr style=\"text-align: right;\">\n",
              "      <th></th>\n",
              "      <th>sales_id</th>\n",
              "      <th>order_id</th>\n",
              "      <th>product_id</th>\n",
              "      <th>price_per_unit</th>\n",
              "      <th>quantity</th>\n",
              "      <th>total_price</th>\n",
              "      <th>product_type</th>\n",
              "      <th>product_name</th>\n",
              "      <th>size</th>\n",
              "      <th>colour</th>\n",
              "      <th>...</th>\n",
              "      <th>delivery_date</th>\n",
              "      <th>customer_name</th>\n",
              "      <th>gender</th>\n",
              "      <th>age</th>\n",
              "      <th>home_address</th>\n",
              "      <th>zip_code</th>\n",
              "      <th>city</th>\n",
              "      <th>state</th>\n",
              "      <th>country</th>\n",
              "      <th>avg_ticket</th>\n",
              "    </tr>\n",
              "  </thead>\n",
              "  <tbody>\n",
              "    <tr>\n",
              "      <th>0</th>\n",
              "      <td>0</td>\n",
              "      <td>1</td>\n",
              "      <td>218</td>\n",
              "      <td>106</td>\n",
              "      <td>2</td>\n",
              "      <td>212</td>\n",
              "      <td>Shirt</td>\n",
              "      <td>Chambray</td>\n",
              "      <td>L</td>\n",
              "      <td>orange</td>\n",
              "      <td>...</td>\n",
              "      <td>2021-09-24</td>\n",
              "      <td>Annabella Devote</td>\n",
              "      <td>Genderfluid</td>\n",
              "      <td>75</td>\n",
              "      <td>4927 Alice MeadowApt. 960</td>\n",
              "      <td>7787</td>\n",
              "      <td>Sanfordborough</td>\n",
              "      <td>South Australia</td>\n",
              "      <td>Australia</td>\n",
              "      <td>106.0</td>\n",
              "    </tr>\n",
              "    <tr>\n",
              "      <th>1</th>\n",
              "      <td>1</td>\n",
              "      <td>1</td>\n",
              "      <td>481</td>\n",
              "      <td>118</td>\n",
              "      <td>1</td>\n",
              "      <td>118</td>\n",
              "      <td>Jacket</td>\n",
              "      <td>Puffer</td>\n",
              "      <td>S</td>\n",
              "      <td>indigo</td>\n",
              "      <td>...</td>\n",
              "      <td>2021-09-24</td>\n",
              "      <td>Annabella Devote</td>\n",
              "      <td>Genderfluid</td>\n",
              "      <td>75</td>\n",
              "      <td>4927 Alice MeadowApt. 960</td>\n",
              "      <td>7787</td>\n",
              "      <td>Sanfordborough</td>\n",
              "      <td>South Australia</td>\n",
              "      <td>Australia</td>\n",
              "      <td>118.0</td>\n",
              "    </tr>\n",
              "    <tr>\n",
              "      <th>2</th>\n",
              "      <td>2</td>\n",
              "      <td>1</td>\n",
              "      <td>2</td>\n",
              "      <td>96</td>\n",
              "      <td>3</td>\n",
              "      <td>288</td>\n",
              "      <td>Shirt</td>\n",
              "      <td>Oxford Cloth</td>\n",
              "      <td>M</td>\n",
              "      <td>red</td>\n",
              "      <td>...</td>\n",
              "      <td>2021-09-24</td>\n",
              "      <td>Annabella Devote</td>\n",
              "      <td>Genderfluid</td>\n",
              "      <td>75</td>\n",
              "      <td>4927 Alice MeadowApt. 960</td>\n",
              "      <td>7787</td>\n",
              "      <td>Sanfordborough</td>\n",
              "      <td>South Australia</td>\n",
              "      <td>Australia</td>\n",
              "      <td>96.0</td>\n",
              "    </tr>\n",
              "    <tr>\n",
              "      <th>3</th>\n",
              "      <td>3</td>\n",
              "      <td>1</td>\n",
              "      <td>1002</td>\n",
              "      <td>106</td>\n",
              "      <td>2</td>\n",
              "      <td>212</td>\n",
              "      <td>Trousers</td>\n",
              "      <td>Wool</td>\n",
              "      <td>M</td>\n",
              "      <td>blue</td>\n",
              "      <td>...</td>\n",
              "      <td>2021-09-24</td>\n",
              "      <td>Annabella Devote</td>\n",
              "      <td>Genderfluid</td>\n",
              "      <td>75</td>\n",
              "      <td>4927 Alice MeadowApt. 960</td>\n",
              "      <td>7787</td>\n",
              "      <td>Sanfordborough</td>\n",
              "      <td>South Australia</td>\n",
              "      <td>Australia</td>\n",
              "      <td>106.0</td>\n",
              "    </tr>\n",
              "    <tr>\n",
              "      <th>4</th>\n",
              "      <td>4</td>\n",
              "      <td>1</td>\n",
              "      <td>691</td>\n",
              "      <td>113</td>\n",
              "      <td>3</td>\n",
              "      <td>339</td>\n",
              "      <td>Jacket</td>\n",
              "      <td>Parka</td>\n",
              "      <td>S</td>\n",
              "      <td>indigo</td>\n",
              "      <td>...</td>\n",
              "      <td>2021-09-24</td>\n",
              "      <td>Annabella Devote</td>\n",
              "      <td>Genderfluid</td>\n",
              "      <td>75</td>\n",
              "      <td>4927 Alice MeadowApt. 960</td>\n",
              "      <td>7787</td>\n",
              "      <td>Sanfordborough</td>\n",
              "      <td>South Australia</td>\n",
              "      <td>Australia</td>\n",
              "      <td>113.0</td>\n",
              "    </tr>\n",
              "  </tbody>\n",
              "</table>\n",
              "<p>5 rows × 26 columns</p>\n",
              "</div>\n",
              "    <div class=\"colab-df-buttons\">\n",
              "\n",
              "  <div class=\"colab-df-container\">\n",
              "    <button class=\"colab-df-convert\" onclick=\"convertToInteractive('df-d779ece1-27fe-4f33-9177-0fa9d77adf77')\"\n",
              "            title=\"Convert this dataframe to an interactive table.\"\n",
              "            style=\"display:none;\">\n",
              "\n",
              "  <svg xmlns=\"http://www.w3.org/2000/svg\" height=\"24px\" viewBox=\"0 -960 960 960\">\n",
              "    <path d=\"M120-120v-720h720v720H120Zm60-500h600v-160H180v160Zm220 220h160v-160H400v160Zm0 220h160v-160H400v160ZM180-400h160v-160H180v160Zm440 0h160v-160H620v160ZM180-180h160v-160H180v160Zm440 0h160v-160H620v160Z\"/>\n",
              "  </svg>\n",
              "    </button>\n",
              "\n",
              "  <style>\n",
              "    .colab-df-container {\n",
              "      display:flex;\n",
              "      gap: 12px;\n",
              "    }\n",
              "\n",
              "    .colab-df-convert {\n",
              "      background-color: #E8F0FE;\n",
              "      border: none;\n",
              "      border-radius: 50%;\n",
              "      cursor: pointer;\n",
              "      display: none;\n",
              "      fill: #1967D2;\n",
              "      height: 32px;\n",
              "      padding: 0 0 0 0;\n",
              "      width: 32px;\n",
              "    }\n",
              "\n",
              "    .colab-df-convert:hover {\n",
              "      background-color: #E2EBFA;\n",
              "      box-shadow: 0px 1px 2px rgba(60, 64, 67, 0.3), 0px 1px 3px 1px rgba(60, 64, 67, 0.15);\n",
              "      fill: #174EA6;\n",
              "    }\n",
              "\n",
              "    .colab-df-buttons div {\n",
              "      margin-bottom: 4px;\n",
              "    }\n",
              "\n",
              "    [theme=dark] .colab-df-convert {\n",
              "      background-color: #3B4455;\n",
              "      fill: #D2E3FC;\n",
              "    }\n",
              "\n",
              "    [theme=dark] .colab-df-convert:hover {\n",
              "      background-color: #434B5C;\n",
              "      box-shadow: 0px 1px 3px 1px rgba(0, 0, 0, 0.15);\n",
              "      filter: drop-shadow(0px 1px 2px rgba(0, 0, 0, 0.3));\n",
              "      fill: #FFFFFF;\n",
              "    }\n",
              "  </style>\n",
              "\n",
              "    <script>\n",
              "      const buttonEl =\n",
              "        document.querySelector('#df-d779ece1-27fe-4f33-9177-0fa9d77adf77 button.colab-df-convert');\n",
              "      buttonEl.style.display =\n",
              "        google.colab.kernel.accessAllowed ? 'block' : 'none';\n",
              "\n",
              "      async function convertToInteractive(key) {\n",
              "        const element = document.querySelector('#df-d779ece1-27fe-4f33-9177-0fa9d77adf77');\n",
              "        const dataTable =\n",
              "          await google.colab.kernel.invokeFunction('convertToInteractive',\n",
              "                                                    [key], {});\n",
              "        if (!dataTable) return;\n",
              "\n",
              "        const docLinkHtml = 'Like what you see? Visit the ' +\n",
              "          '<a target=\"_blank\" href=https://colab.research.google.com/notebooks/data_table.ipynb>data table notebook</a>'\n",
              "          + ' to learn more about interactive tables.';\n",
              "        element.innerHTML = '';\n",
              "        dataTable['output_type'] = 'display_data';\n",
              "        await google.colab.output.renderOutput(dataTable, element);\n",
              "        const docLink = document.createElement('div');\n",
              "        docLink.innerHTML = docLinkHtml;\n",
              "        element.appendChild(docLink);\n",
              "      }\n",
              "    </script>\n",
              "  </div>\n",
              "\n",
              "\n",
              "<div id=\"df-9575e08a-377a-4cc2-9244-bba68315c216\">\n",
              "  <button class=\"colab-df-quickchart\" onclick=\"quickchart('df-9575e08a-377a-4cc2-9244-bba68315c216')\"\n",
              "            title=\"Suggest charts\"\n",
              "            style=\"display:none;\">\n",
              "\n",
              "<svg xmlns=\"http://www.w3.org/2000/svg\" height=\"24px\"viewBox=\"0 0 24 24\"\n",
              "     width=\"24px\">\n",
              "    <g>\n",
              "        <path d=\"M19 3H5c-1.1 0-2 .9-2 2v14c0 1.1.9 2 2 2h14c1.1 0 2-.9 2-2V5c0-1.1-.9-2-2-2zM9 17H7v-7h2v7zm4 0h-2V7h2v10zm4 0h-2v-4h2v4z\"/>\n",
              "    </g>\n",
              "</svg>\n",
              "  </button>\n",
              "\n",
              "<style>\n",
              "  .colab-df-quickchart {\n",
              "      --bg-color: #E8F0FE;\n",
              "      --fill-color: #1967D2;\n",
              "      --hover-bg-color: #E2EBFA;\n",
              "      --hover-fill-color: #174EA6;\n",
              "      --disabled-fill-color: #AAA;\n",
              "      --disabled-bg-color: #DDD;\n",
              "  }\n",
              "\n",
              "  [theme=dark] .colab-df-quickchart {\n",
              "      --bg-color: #3B4455;\n",
              "      --fill-color: #D2E3FC;\n",
              "      --hover-bg-color: #434B5C;\n",
              "      --hover-fill-color: #FFFFFF;\n",
              "      --disabled-bg-color: #3B4455;\n",
              "      --disabled-fill-color: #666;\n",
              "  }\n",
              "\n",
              "  .colab-df-quickchart {\n",
              "    background-color: var(--bg-color);\n",
              "    border: none;\n",
              "    border-radius: 50%;\n",
              "    cursor: pointer;\n",
              "    display: none;\n",
              "    fill: var(--fill-color);\n",
              "    height: 32px;\n",
              "    padding: 0;\n",
              "    width: 32px;\n",
              "  }\n",
              "\n",
              "  .colab-df-quickchart:hover {\n",
              "    background-color: var(--hover-bg-color);\n",
              "    box-shadow: 0 1px 2px rgba(60, 64, 67, 0.3), 0 1px 3px 1px rgba(60, 64, 67, 0.15);\n",
              "    fill: var(--button-hover-fill-color);\n",
              "  }\n",
              "\n",
              "  .colab-df-quickchart-complete:disabled,\n",
              "  .colab-df-quickchart-complete:disabled:hover {\n",
              "    background-color: var(--disabled-bg-color);\n",
              "    fill: var(--disabled-fill-color);\n",
              "    box-shadow: none;\n",
              "  }\n",
              "\n",
              "  .colab-df-spinner {\n",
              "    border: 2px solid var(--fill-color);\n",
              "    border-color: transparent;\n",
              "    border-bottom-color: var(--fill-color);\n",
              "    animation:\n",
              "      spin 1s steps(1) infinite;\n",
              "  }\n",
              "\n",
              "  @keyframes spin {\n",
              "    0% {\n",
              "      border-color: transparent;\n",
              "      border-bottom-color: var(--fill-color);\n",
              "      border-left-color: var(--fill-color);\n",
              "    }\n",
              "    20% {\n",
              "      border-color: transparent;\n",
              "      border-left-color: var(--fill-color);\n",
              "      border-top-color: var(--fill-color);\n",
              "    }\n",
              "    30% {\n",
              "      border-color: transparent;\n",
              "      border-left-color: var(--fill-color);\n",
              "      border-top-color: var(--fill-color);\n",
              "      border-right-color: var(--fill-color);\n",
              "    }\n",
              "    40% {\n",
              "      border-color: transparent;\n",
              "      border-right-color: var(--fill-color);\n",
              "      border-top-color: var(--fill-color);\n",
              "    }\n",
              "    60% {\n",
              "      border-color: transparent;\n",
              "      border-right-color: var(--fill-color);\n",
              "    }\n",
              "    80% {\n",
              "      border-color: transparent;\n",
              "      border-right-color: var(--fill-color);\n",
              "      border-bottom-color: var(--fill-color);\n",
              "    }\n",
              "    90% {\n",
              "      border-color: transparent;\n",
              "      border-bottom-color: var(--fill-color);\n",
              "    }\n",
              "  }\n",
              "</style>\n",
              "\n",
              "  <script>\n",
              "    async function quickchart(key) {\n",
              "      const quickchartButtonEl =\n",
              "        document.querySelector('#' + key + ' button');\n",
              "      quickchartButtonEl.disabled = true;  // To prevent multiple clicks.\n",
              "      quickchartButtonEl.classList.add('colab-df-spinner');\n",
              "      try {\n",
              "        const charts = await google.colab.kernel.invokeFunction(\n",
              "            'suggestCharts', [key], {});\n",
              "      } catch (error) {\n",
              "        console.error('Error during call to suggestCharts:', error);\n",
              "      }\n",
              "      quickchartButtonEl.classList.remove('colab-df-spinner');\n",
              "      quickchartButtonEl.classList.add('colab-df-quickchart-complete');\n",
              "    }\n",
              "    (() => {\n",
              "      let quickchartButtonEl =\n",
              "        document.querySelector('#df-9575e08a-377a-4cc2-9244-bba68315c216 button');\n",
              "      quickchartButtonEl.style.display =\n",
              "        google.colab.kernel.accessAllowed ? 'block' : 'none';\n",
              "    })();\n",
              "  </script>\n",
              "</div>\n",
              "    </div>\n",
              "  </div>\n"
            ]
          },
          "metadata": {},
          "execution_count": 47
        }
      ]
    },
    {
      "cell_type": "code",
      "source": [
        "genera"
      ],
      "metadata": {
        "colab": {
          "base_uri": "https://localhost:8080/"
        },
        "id": "CJfOnWupWqt2",
        "outputId": "cfb63e2d-08d8-4541-88f9-d4776f44bb12"
      },
      "execution_count": 50,
      "outputs": [
        {
          "output_type": "execute_result",
          "data": {
            "text/plain": [
              "103.57357960248946"
            ]
          },
          "metadata": {},
          "execution_count": 50
        }
      ]
    }
  ],
  "metadata": {
    "colab": {
      "provenance": []
    },
    "kernelspec": {
      "display_name": "Python 3",
      "name": "python3"
    },
    "language_info": {
      "name": "python"
    }
  },
  "nbformat": 4,
  "nbformat_minor": 0
}