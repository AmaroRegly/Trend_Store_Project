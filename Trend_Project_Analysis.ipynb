{
  "cells": [
    {
      "cell_type": "markdown",
      "metadata": {
        "id": "view-in-github",
        "colab_type": "text"
      },
      "source": [
        "<a href=\"https://colab.research.google.com/github/AmaroRegly/trend_project/blob/main/Trend_Project_Analysis.ipynb\" target=\"_parent\"><img src=\"https://colab.research.google.com/assets/colab-badge.svg\" alt=\"Open In Colab\"/></a>"
      ]
    },
    {
      "cell_type": "markdown",
      "metadata": {
        "id": "n_uVTgJZBvJz"
      },
      "source": [
        "#Introduction\n",
        "The idea of this project is to show an analysis of Trend (fictitious store) sales in 2021. It is a clothing and accessories store whose main area of activity is in Australia."
      ]
    },
    {
      "cell_type": "markdown",
      "metadata": {
        "id": "fyZj_BSmBgjp"
      },
      "source": [
        "#Analysis Objective\n",
        "Provide Trend's marketing team with insights that can help direct the area's efforts and investments to attract new customers. In other words, providing knowledge that helps optimize all marketing actions.."
      ]
    },
    {
      "cell_type": "markdown",
      "metadata": {
        "id": "HSaWEsphEF3z"
      },
      "source": [
        "#About the data\n",
        "The analyzed data was obtained through the website [Kaggle](https://www.kaggle.com/datasets/ruchi798/shopping-cart-database/data) and is structured in 4 tables:\n",
        "\n",
        "\n",
        "* **customers:** with general information about customers\n",
        "* **orders:** with order payment data\n",
        "* **products:** with the specifications of each product\n",
        "* **sales:** with price and quantity data for each sale\n",
        "\n"
      ]
    },
    {
      "cell_type": "markdown",
      "metadata": {
        "id": "rypGOMKlGFMj"
      },
      "source": [
        "##Import of libraries and datasets"
      ]
    },
    {
      "cell_type": "code",
      "source": [
        "from google.colab import drive\n",
        "drive.mount('/content/drive')"
      ],
      "metadata": {
        "colab": {
          "base_uri": "https://localhost:8080/"
        },
        "id": "QLQy_DB5hx1X",
        "outputId": "ddef6f58-23fe-4c75-f71e-3a02f736b8ad"
      },
      "execution_count": 32,
      "outputs": [
        {
          "output_type": "stream",
          "name": "stdout",
          "text": [
            "Drive already mounted at /content/drive; to attempt to forcibly remount, call drive.mount(\"/content/drive\", force_remount=True).\n"
          ]
        }
      ]
    },
    {
      "cell_type": "code",
      "execution_count": 33,
      "metadata": {
        "id": "0XMAHe90GJbX"
      },
      "outputs": [],
      "source": [
        "import pandas as pd\n",
        "import matplotlib.pyplot as plt"
      ]
    },
    {
      "cell_type": "code",
      "execution_count": 34,
      "metadata": {
        "id": "akC70K5GGSSv"
      },
      "outputs": [],
      "source": [
        "customer_df = pd.read_csv('/content/drive/MyDrive/Data Analyst/Vendas/customers.csv')\n",
        "orders_df = pd.read_csv('/content/drive/MyDrive/Data Analyst/Vendas/orders.csv')\n",
        "product_df = pd.read_csv('/content/drive/MyDrive/Data Analyst/Vendas/products.csv')\n",
        "sales_df = pd.read_csv('/content/drive/MyDrive/Data Analyst/Vendas/sales.csv')"
      ]
    },
    {
      "cell_type": "markdown",
      "metadata": {
        "id": "2ATALyuAIFz2"
      },
      "source": [
        "##Overview of Data Cleaning"
      ]
    },
    {
      "cell_type": "code",
      "execution_count": 35,
      "metadata": {
        "colab": {
          "base_uri": "https://localhost:8080/",
          "height": 331
        },
        "id": "KDXeJjDkIMYd",
        "outputId": "4cabae01-d2e1-4095-c3e4-97bed5f4b454"
      },
      "outputs": [
        {
          "output_type": "stream",
          "name": "stdout",
          "text": [
            "<class 'pandas.core.frame.DataFrame'>\n",
            "RangeIndex: 1000 entries, 0 to 999\n",
            "Data columns (total 9 columns):\n",
            " #   Column         Non-Null Count  Dtype \n",
            "---  ------         --------------  ----- \n",
            " 0   customer_id    1000 non-null   int64 \n",
            " 1   customer_name  1000 non-null   object\n",
            " 2   gender         1000 non-null   object\n",
            " 3   age            1000 non-null   int64 \n",
            " 4   home_address   1000 non-null   object\n",
            " 5   zip_code       1000 non-null   int64 \n",
            " 6   city           1000 non-null   object\n",
            " 7   state          1000 non-null   object\n",
            " 8   country        1000 non-null   object\n",
            "dtypes: int64(3), object(6)\n",
            "memory usage: 70.4+ KB\n"
          ]
        },
        {
          "output_type": "execute_result",
          "data": {
            "text/plain": [
              "Empty DataFrame\n",
              "Columns: [customer_id, customer_name, gender, age, home_address, zip_code, city, state, country]\n",
              "Index: []"
            ],
            "text/html": [
              "\n",
              "  <div id=\"df-1adbcb25-b616-462e-acd9-301727b63bb2\" class=\"colab-df-container\">\n",
              "    <div>\n",
              "<style scoped>\n",
              "    .dataframe tbody tr th:only-of-type {\n",
              "        vertical-align: middle;\n",
              "    }\n",
              "\n",
              "    .dataframe tbody tr th {\n",
              "        vertical-align: top;\n",
              "    }\n",
              "\n",
              "    .dataframe thead th {\n",
              "        text-align: right;\n",
              "    }\n",
              "</style>\n",
              "<table border=\"1\" class=\"dataframe\">\n",
              "  <thead>\n",
              "    <tr style=\"text-align: right;\">\n",
              "      <th></th>\n",
              "      <th>customer_id</th>\n",
              "      <th>customer_name</th>\n",
              "      <th>gender</th>\n",
              "      <th>age</th>\n",
              "      <th>home_address</th>\n",
              "      <th>zip_code</th>\n",
              "      <th>city</th>\n",
              "      <th>state</th>\n",
              "      <th>country</th>\n",
              "    </tr>\n",
              "  </thead>\n",
              "  <tbody>\n",
              "  </tbody>\n",
              "</table>\n",
              "</div>\n",
              "    <div class=\"colab-df-buttons\">\n",
              "\n",
              "  <div class=\"colab-df-container\">\n",
              "    <button class=\"colab-df-convert\" onclick=\"convertToInteractive('df-1adbcb25-b616-462e-acd9-301727b63bb2')\"\n",
              "            title=\"Convert this dataframe to an interactive table.\"\n",
              "            style=\"display:none;\">\n",
              "\n",
              "  <svg xmlns=\"http://www.w3.org/2000/svg\" height=\"24px\" viewBox=\"0 -960 960 960\">\n",
              "    <path d=\"M120-120v-720h720v720H120Zm60-500h600v-160H180v160Zm220 220h160v-160H400v160Zm0 220h160v-160H400v160ZM180-400h160v-160H180v160Zm440 0h160v-160H620v160ZM180-180h160v-160H180v160Zm440 0h160v-160H620v160Z\"/>\n",
              "  </svg>\n",
              "    </button>\n",
              "\n",
              "  <style>\n",
              "    .colab-df-container {\n",
              "      display:flex;\n",
              "      gap: 12px;\n",
              "    }\n",
              "\n",
              "    .colab-df-convert {\n",
              "      background-color: #E8F0FE;\n",
              "      border: none;\n",
              "      border-radius: 50%;\n",
              "      cursor: pointer;\n",
              "      display: none;\n",
              "      fill: #1967D2;\n",
              "      height: 32px;\n",
              "      padding: 0 0 0 0;\n",
              "      width: 32px;\n",
              "    }\n",
              "\n",
              "    .colab-df-convert:hover {\n",
              "      background-color: #E2EBFA;\n",
              "      box-shadow: 0px 1px 2px rgba(60, 64, 67, 0.3), 0px 1px 3px 1px rgba(60, 64, 67, 0.15);\n",
              "      fill: #174EA6;\n",
              "    }\n",
              "\n",
              "    .colab-df-buttons div {\n",
              "      margin-bottom: 4px;\n",
              "    }\n",
              "\n",
              "    [theme=dark] .colab-df-convert {\n",
              "      background-color: #3B4455;\n",
              "      fill: #D2E3FC;\n",
              "    }\n",
              "\n",
              "    [theme=dark] .colab-df-convert:hover {\n",
              "      background-color: #434B5C;\n",
              "      box-shadow: 0px 1px 3px 1px rgba(0, 0, 0, 0.15);\n",
              "      filter: drop-shadow(0px 1px 2px rgba(0, 0, 0, 0.3));\n",
              "      fill: #FFFFFF;\n",
              "    }\n",
              "  </style>\n",
              "\n",
              "    <script>\n",
              "      const buttonEl =\n",
              "        document.querySelector('#df-1adbcb25-b616-462e-acd9-301727b63bb2 button.colab-df-convert');\n",
              "      buttonEl.style.display =\n",
              "        google.colab.kernel.accessAllowed ? 'block' : 'none';\n",
              "\n",
              "      async function convertToInteractive(key) {\n",
              "        const element = document.querySelector('#df-1adbcb25-b616-462e-acd9-301727b63bb2');\n",
              "        const dataTable =\n",
              "          await google.colab.kernel.invokeFunction('convertToInteractive',\n",
              "                                                    [key], {});\n",
              "        if (!dataTable) return;\n",
              "\n",
              "        const docLinkHtml = 'Like what you see? Visit the ' +\n",
              "          '<a target=\"_blank\" href=https://colab.research.google.com/notebooks/data_table.ipynb>data table notebook</a>'\n",
              "          + ' to learn more about interactive tables.';\n",
              "        element.innerHTML = '';\n",
              "        dataTable['output_type'] = 'display_data';\n",
              "        await google.colab.output.renderOutput(dataTable, element);\n",
              "        const docLink = document.createElement('div');\n",
              "        docLink.innerHTML = docLinkHtml;\n",
              "        element.appendChild(docLink);\n",
              "      }\n",
              "    </script>\n",
              "  </div>\n",
              "\n",
              "\n",
              "    </div>\n",
              "  </div>\n"
            ]
          },
          "metadata": {},
          "execution_count": 35
        }
      ],
      "source": [
        "customer_df.info() #view dataframe information\n",
        "customer_df[customer_df.duplicated()] #identify duplicate data in the dataframe"
      ]
    },
    {
      "cell_type": "code",
      "execution_count": 36,
      "metadata": {
        "colab": {
          "base_uri": "https://localhost:8080/"
        },
        "id": "hAAF-LMiIq13",
        "outputId": "98ad2dde-6f5f-4d78-9fe3-ccff54966b80"
      },
      "outputs": [
        {
          "output_type": "stream",
          "name": "stdout",
          "text": [
            "<class 'pandas.core.frame.DataFrame'>\n",
            "RangeIndex: 1000 entries, 0 to 999\n",
            "Data columns (total 5 columns):\n",
            " #   Column         Non-Null Count  Dtype \n",
            "---  ------         --------------  ----- \n",
            " 0   order_id       1000 non-null   int64 \n",
            " 1   customer_id    1000 non-null   int64 \n",
            " 2   payment        1000 non-null   int64 \n",
            " 3   order_date     1000 non-null   object\n",
            " 4   delivery_date  1000 non-null   object\n",
            "dtypes: int64(3), object(2)\n",
            "memory usage: 39.2+ KB\n",
            "<class 'pandas.core.frame.DataFrame'>\n",
            "RangeIndex: 1000 entries, 0 to 999\n",
            "Data columns (total 5 columns):\n",
            " #   Column         Non-Null Count  Dtype         \n",
            "---  ------         --------------  -----         \n",
            " 0   order_id       1000 non-null   int64         \n",
            " 1   customer_id    1000 non-null   int64         \n",
            " 2   payment        1000 non-null   int64         \n",
            " 3   order_date     1000 non-null   datetime64[ns]\n",
            " 4   delivery_date  1000 non-null   datetime64[ns]\n",
            "dtypes: datetime64[ns](2), int64(3)\n",
            "memory usage: 39.2 KB\n"
          ]
        }
      ],
      "source": [
        "orders_df.info() #view dataframe information\n",
        "orders_df[orders_df.duplicated()] #identify duplicate data in the dataframe\n",
        "orders_df['delivery_date'] = pd.to_datetime(orders_df['delivery_date']) #convert column type from object to datetime\n",
        "orders_df['order_date'] = pd.to_datetime(orders_df['order_date']) #convert column type from object to datetime\n",
        "orders_df.info() #view dataframe information after changes"
      ]
    },
    {
      "cell_type": "code",
      "execution_count": 37,
      "metadata": {
        "colab": {
          "base_uri": "https://localhost:8080/"
        },
        "id": "Npv1-NSMIut9",
        "outputId": "7ae49a04-533c-4e7d-8750-b453d4e11ce5"
      },
      "outputs": [
        {
          "output_type": "stream",
          "name": "stdout",
          "text": [
            "<class 'pandas.core.frame.DataFrame'>\n",
            "RangeIndex: 1260 entries, 0 to 1259\n",
            "Data columns (total 8 columns):\n",
            " #   Column        Non-Null Count  Dtype \n",
            "---  ------        --------------  ----- \n",
            " 0   product_ID    1260 non-null   int64 \n",
            " 1   product_type  1260 non-null   object\n",
            " 2   product_name  1260 non-null   object\n",
            " 3   size          1260 non-null   object\n",
            " 4   colour        1260 non-null   object\n",
            " 5   price         1260 non-null   int64 \n",
            " 6   quantity      1260 non-null   int64 \n",
            " 7   description   1260 non-null   object\n",
            "dtypes: int64(3), object(5)\n",
            "memory usage: 78.9+ KB\n",
            "<class 'pandas.core.frame.DataFrame'>\n",
            "RangeIndex: 1260 entries, 0 to 1259\n",
            "Data columns (total 8 columns):\n",
            " #   Column        Non-Null Count  Dtype  \n",
            "---  ------        --------------  -----  \n",
            " 0   product_id    1260 non-null   int64  \n",
            " 1   product_type  1260 non-null   object \n",
            " 2   product_name  1260 non-null   object \n",
            " 3   size          1260 non-null   object \n",
            " 4   colour        1260 non-null   object \n",
            " 5   price         1260 non-null   float64\n",
            " 6   stock         1260 non-null   int64  \n",
            " 7   description   1260 non-null   object \n",
            "dtypes: float64(1), int64(2), object(5)\n",
            "memory usage: 78.9+ KB\n"
          ]
        }
      ],
      "source": [
        "product_df.info() #view dataframe information\n",
        "product_df[product_df.duplicated()] #identify duplicate data in the dataframe\n",
        "product_df.rename(columns={'product_ID' : 'product_id'}, inplace=True) #Normalization of column name from product_ID to product_id\n",
        "product_df.rename(columns={'quantity' : 'stock'}, inplace=True) #Normalization of column name from quantity to stock because others table using the same column name\n",
        "product_df['price'] = product_df['price'].astype(float) #because it is a monetary value, we convert the type from int to float\n",
        "product_df.info() #view dataframe information after changes"
      ]
    },
    {
      "cell_type": "code",
      "execution_count": 38,
      "metadata": {
        "colab": {
          "base_uri": "https://localhost:8080/"
        },
        "id": "S8oeIyCHI-JU",
        "outputId": "97afddc6-5877-47d1-b5ca-87ec10a02e35"
      },
      "outputs": [
        {
          "output_type": "stream",
          "name": "stdout",
          "text": [
            "<class 'pandas.core.frame.DataFrame'>\n",
            "RangeIndex: 5000 entries, 0 to 4999\n",
            "Data columns (total 6 columns):\n",
            " #   Column          Non-Null Count  Dtype\n",
            "---  ------          --------------  -----\n",
            " 0   sales_id        5000 non-null   int64\n",
            " 1   order_id        5000 non-null   int64\n",
            " 2   product_id      5000 non-null   int64\n",
            " 3   price_per_unit  5000 non-null   int64\n",
            " 4   quantity        5000 non-null   int64\n",
            " 5   total_price     5000 non-null   int64\n",
            "dtypes: int64(6)\n",
            "memory usage: 234.5 KB\n",
            "<class 'pandas.core.frame.DataFrame'>\n",
            "RangeIndex: 5000 entries, 0 to 4999\n",
            "Data columns (total 6 columns):\n",
            " #   Column          Non-Null Count  Dtype  \n",
            "---  ------          --------------  -----  \n",
            " 0   sales_id        5000 non-null   int64  \n",
            " 1   order_id        5000 non-null   int64  \n",
            " 2   product_id      5000 non-null   int64  \n",
            " 3   price_per_unit  5000 non-null   float64\n",
            " 4   quantity        5000 non-null   int64  \n",
            " 5   total_price     5000 non-null   float64\n",
            "dtypes: float64(2), int64(4)\n",
            "memory usage: 234.5 KB\n"
          ]
        }
      ],
      "source": [
        "sales_df.info() #view dataframe information\n",
        "sales_df[sales_df.duplicated()] #identify duplicate data in the dataframe\n",
        "for atributo in ['price_per_unit', 'total_price']: sales_df[atributo] = sales_df[atributo].astype(float) #because it is a monetary value, we convert the type from int to float\n",
        "sales_df.info() #view dataframe information after changes"
      ]
    },
    {
      "cell_type": "markdown",
      "metadata": {
        "id": "Szadvo50R8J2"
      },
      "source": [
        "## Data Fusion"
      ]
    },
    {
      "cell_type": "code",
      "execution_count": 39,
      "metadata": {
        "id": "vxYG_iG2fPic"
      },
      "outputs": [],
      "source": [
        "general_df = sales_df.merge(product_df, how='inner', left_on='product_id', right_on='product_id')\n",
        "general_df = general_df.merge(orders_df, how='inner', left_on='order_id', right_on='order_id')\n",
        "general_df = general_df.merge(customer_df, how='inner', left_on='customer_id', right_on='customer_id')\n"
      ]
    },
    {
      "cell_type": "code",
      "execution_count": 40,
      "metadata": {
        "id": "6Lj1Dsywhlzw",
        "colab": {
          "base_uri": "https://localhost:8080/",
          "height": 654
        },
        "outputId": "2257e338-e60e-45e2-a865-83f99032b720"
      },
      "outputs": [
        {
          "output_type": "stream",
          "name": "stdout",
          "text": [
            "<class 'pandas.core.frame.DataFrame'>\n",
            "Int64Index: 5000 entries, 0 to 4999\n",
            "Data columns (total 25 columns):\n",
            " #   Column          Non-Null Count  Dtype         \n",
            "---  ------          --------------  -----         \n",
            " 0   sales_id        5000 non-null   int64         \n",
            " 1   order_id        5000 non-null   int64         \n",
            " 2   product_id      5000 non-null   int64         \n",
            " 3   price_per_unit  5000 non-null   float64       \n",
            " 4   quantity        5000 non-null   int64         \n",
            " 5   total_price     5000 non-null   float64       \n",
            " 6   product_type    5000 non-null   object        \n",
            " 7   product_name    5000 non-null   object        \n",
            " 8   size            5000 non-null   object        \n",
            " 9   colour          5000 non-null   object        \n",
            " 10  price           5000 non-null   float64       \n",
            " 11  stock           5000 non-null   int64         \n",
            " 12  description     5000 non-null   object        \n",
            " 13  customer_id     5000 non-null   int64         \n",
            " 14  payment         5000 non-null   int64         \n",
            " 15  order_date      5000 non-null   datetime64[ns]\n",
            " 16  delivery_date   5000 non-null   datetime64[ns]\n",
            " 17  customer_name   5000 non-null   object        \n",
            " 18  gender          5000 non-null   object        \n",
            " 19  age             5000 non-null   int64         \n",
            " 20  home_address    5000 non-null   object        \n",
            " 21  zip_code        5000 non-null   int64         \n",
            " 22  city            5000 non-null   object        \n",
            " 23  state           5000 non-null   object        \n",
            " 24  country         5000 non-null   object        \n",
            "dtypes: datetime64[ns](2), float64(3), int64(9), object(11)\n",
            "memory usage: 1015.6+ KB\n"
          ]
        },
        {
          "output_type": "execute_result",
          "data": {
            "text/plain": [
              "Empty DataFrame\n",
              "Columns: [sales_id, order_id, product_id, price_per_unit, quantity, total_price, product_type, product_name, size, colour, price, stock, description, customer_id, payment, order_date, delivery_date, customer_name, gender, age, home_address, zip_code, city, state, country]\n",
              "Index: []\n",
              "\n",
              "[0 rows x 25 columns]"
            ],
            "text/html": [
              "\n",
              "  <div id=\"df-b1cb4385-605e-4b4c-8e92-185ecb5559b8\" class=\"colab-df-container\">\n",
              "    <div>\n",
              "<style scoped>\n",
              "    .dataframe tbody tr th:only-of-type {\n",
              "        vertical-align: middle;\n",
              "    }\n",
              "\n",
              "    .dataframe tbody tr th {\n",
              "        vertical-align: top;\n",
              "    }\n",
              "\n",
              "    .dataframe thead th {\n",
              "        text-align: right;\n",
              "    }\n",
              "</style>\n",
              "<table border=\"1\" class=\"dataframe\">\n",
              "  <thead>\n",
              "    <tr style=\"text-align: right;\">\n",
              "      <th></th>\n",
              "      <th>sales_id</th>\n",
              "      <th>order_id</th>\n",
              "      <th>product_id</th>\n",
              "      <th>price_per_unit</th>\n",
              "      <th>quantity</th>\n",
              "      <th>total_price</th>\n",
              "      <th>product_type</th>\n",
              "      <th>product_name</th>\n",
              "      <th>size</th>\n",
              "      <th>colour</th>\n",
              "      <th>...</th>\n",
              "      <th>order_date</th>\n",
              "      <th>delivery_date</th>\n",
              "      <th>customer_name</th>\n",
              "      <th>gender</th>\n",
              "      <th>age</th>\n",
              "      <th>home_address</th>\n",
              "      <th>zip_code</th>\n",
              "      <th>city</th>\n",
              "      <th>state</th>\n",
              "      <th>country</th>\n",
              "    </tr>\n",
              "  </thead>\n",
              "  <tbody>\n",
              "  </tbody>\n",
              "</table>\n",
              "<p>0 rows × 25 columns</p>\n",
              "</div>\n",
              "    <div class=\"colab-df-buttons\">\n",
              "\n",
              "  <div class=\"colab-df-container\">\n",
              "    <button class=\"colab-df-convert\" onclick=\"convertToInteractive('df-b1cb4385-605e-4b4c-8e92-185ecb5559b8')\"\n",
              "            title=\"Convert this dataframe to an interactive table.\"\n",
              "            style=\"display:none;\">\n",
              "\n",
              "  <svg xmlns=\"http://www.w3.org/2000/svg\" height=\"24px\" viewBox=\"0 -960 960 960\">\n",
              "    <path d=\"M120-120v-720h720v720H120Zm60-500h600v-160H180v160Zm220 220h160v-160H400v160Zm0 220h160v-160H400v160ZM180-400h160v-160H180v160Zm440 0h160v-160H620v160ZM180-180h160v-160H180v160Zm440 0h160v-160H620v160Z\"/>\n",
              "  </svg>\n",
              "    </button>\n",
              "\n",
              "  <style>\n",
              "    .colab-df-container {\n",
              "      display:flex;\n",
              "      gap: 12px;\n",
              "    }\n",
              "\n",
              "    .colab-df-convert {\n",
              "      background-color: #E8F0FE;\n",
              "      border: none;\n",
              "      border-radius: 50%;\n",
              "      cursor: pointer;\n",
              "      display: none;\n",
              "      fill: #1967D2;\n",
              "      height: 32px;\n",
              "      padding: 0 0 0 0;\n",
              "      width: 32px;\n",
              "    }\n",
              "\n",
              "    .colab-df-convert:hover {\n",
              "      background-color: #E2EBFA;\n",
              "      box-shadow: 0px 1px 2px rgba(60, 64, 67, 0.3), 0px 1px 3px 1px rgba(60, 64, 67, 0.15);\n",
              "      fill: #174EA6;\n",
              "    }\n",
              "\n",
              "    .colab-df-buttons div {\n",
              "      margin-bottom: 4px;\n",
              "    }\n",
              "\n",
              "    [theme=dark] .colab-df-convert {\n",
              "      background-color: #3B4455;\n",
              "      fill: #D2E3FC;\n",
              "    }\n",
              "\n",
              "    [theme=dark] .colab-df-convert:hover {\n",
              "      background-color: #434B5C;\n",
              "      box-shadow: 0px 1px 3px 1px rgba(0, 0, 0, 0.15);\n",
              "      filter: drop-shadow(0px 1px 2px rgba(0, 0, 0, 0.3));\n",
              "      fill: #FFFFFF;\n",
              "    }\n",
              "  </style>\n",
              "\n",
              "    <script>\n",
              "      const buttonEl =\n",
              "        document.querySelector('#df-b1cb4385-605e-4b4c-8e92-185ecb5559b8 button.colab-df-convert');\n",
              "      buttonEl.style.display =\n",
              "        google.colab.kernel.accessAllowed ? 'block' : 'none';\n",
              "\n",
              "      async function convertToInteractive(key) {\n",
              "        const element = document.querySelector('#df-b1cb4385-605e-4b4c-8e92-185ecb5559b8');\n",
              "        const dataTable =\n",
              "          await google.colab.kernel.invokeFunction('convertToInteractive',\n",
              "                                                    [key], {});\n",
              "        if (!dataTable) return;\n",
              "\n",
              "        const docLinkHtml = 'Like what you see? Visit the ' +\n",
              "          '<a target=\"_blank\" href=https://colab.research.google.com/notebooks/data_table.ipynb>data table notebook</a>'\n",
              "          + ' to learn more about interactive tables.';\n",
              "        element.innerHTML = '';\n",
              "        dataTable['output_type'] = 'display_data';\n",
              "        await google.colab.output.renderOutput(dataTable, element);\n",
              "        const docLink = document.createElement('div');\n",
              "        docLink.innerHTML = docLinkHtml;\n",
              "        element.appendChild(docLink);\n",
              "      }\n",
              "    </script>\n",
              "  </div>\n",
              "\n",
              "\n",
              "    </div>\n",
              "  </div>\n"
            ]
          },
          "metadata": {},
          "execution_count": 40
        }
      ],
      "source": [
        "general_df.info()\n",
        "general_df[general_df.duplicated()]"
      ]
    },
    {
      "cell_type": "markdown",
      "metadata": {
        "id": "SeAXJLZfkYFz"
      },
      "source": [
        "#Data exploration"
      ]
    },
    {
      "cell_type": "markdown",
      "metadata": {
        "id": "-TelFktm_8KE"
      },
      "source": [
        "##What is the overall sales performance throughout 2021?"
      ]
    },
    {
      "cell_type": "code",
      "source": [
        "total_sales = general_df['total_price'].sum()\n",
        "print(f'Total revenue in 2021 was ${total_sales}')"
      ],
      "metadata": {
        "colab": {
          "base_uri": "https://localhost:8080/"
        },
        "id": "VFRSjDxnKmTI",
        "outputId": "f062e997-2158-475f-ac26-ca9a96f04a22"
      },
      "execution_count": 41,
      "outputs": [
        {
          "output_type": "stream",
          "name": "stdout",
          "text": [
            "Total revenue in 2021 was $1031800.0\n"
          ]
        }
      ]
    },
    {
      "cell_type": "markdown",
      "source": [
        "##What is the average ticket in 2021?\n",
        "\n"
      ],
      "metadata": {
        "id": "Oivfw3TkIBfC"
      }
    },
    {
      "cell_type": "code",
      "source": [
        "avg_ticket = (general_df['total_price'].sum()) / (general_df['quantity'].sum())\n",
        "print(f'The average ticket in 2021 was ${avg_ticket:.2f}')"
      ],
      "metadata": {
        "colab": {
          "base_uri": "https://localhost:8080/"
        },
        "id": "_wUrqnJDIFjw",
        "outputId": "481b2dfa-5d35-4192-963e-719f8bba5f88"
      },
      "execution_count": 42,
      "outputs": [
        {
          "output_type": "stream",
          "name": "stdout",
          "text": [
            "The average ticket in 2021 was $103.57\n"
          ]
        }
      ]
    },
    {
      "cell_type": "markdown",
      "source": [
        "##How was the performance in sales per month in 2021?"
      ],
      "metadata": {
        "id": "6n9sc5K6UFk3"
      }
    },
    {
      "cell_type": "code",
      "execution_count": 43,
      "metadata": {
        "colab": {
          "base_uri": "https://localhost:8080/"
        },
        "id": "1nBAG6nrBp7c",
        "outputId": "72743cb5-bb41-4163-e4d7-b1a29c7e3348"
      },
      "outputs": [
        {
          "output_type": "execute_result",
          "data": {
            "text/plain": [
              "month_order\n",
              "1     119333.0\n",
              "2      95080.0\n",
              "3     131364.0\n",
              "4      97530.0\n",
              "5      85597.0\n",
              "6     101458.0\n",
              "7     116081.0\n",
              "8     104565.0\n",
              "9      96526.0\n",
              "10     84266.0\n",
              "Name: total_price, dtype: float64"
            ]
          },
          "metadata": {},
          "execution_count": 43
        }
      ],
      "source": [
        "general_df['month_order'] = general_df['order_date'].dt.month\n",
        "sales_2021 = general_df[['month_order' , 'total_price']].groupby('month_order').total_price.sum()\n",
        "sales_2021"
      ]
    },
    {
      "cell_type": "code",
      "execution_count": 44,
      "metadata": {
        "colab": {
          "base_uri": "https://localhost:8080/",
          "height": 487
        },
        "id": "tCSDiPDBENzY",
        "outputId": "9ce80dbb-6ecf-4ddb-8dc0-a0d7aa981ef2"
      },
      "outputs": [
        {
          "output_type": "display_data",
          "data": {
            "text/plain": [
              "<Figure size 1500x500 with 1 Axes>"
            ],
            "image/png": "[encoded data removed]"
          },
          "metadata": {}
        }
      ],
      "source": [
        "plt.figure(figsize=(15,5))\n",
        "plt.plot(sales_2021.index, sales_2021.values)\n",
        "plt.xlabel('Month')\n",
        "plt.ylabel('Revenue')\n",
        "plt.title('Revenue per Month - 2021')\n",
        "plt.show()"
      ]
    },
    {
      "cell_type": "markdown",
      "source": [
        "### Comments\n",
        "* More than 120.000 revenue in March\n",
        "* Slowdown in sales in October (which could lead to low sales at the end of the year and festive season)\n",
        "* February, May and October with revenue below 100.000\n",
        "\n",
        "\n",
        "\n"
      ],
      "metadata": {
        "id": "6-4pm5Hb4hdS"
      }
    },
    {
      "cell_type": "markdown",
      "metadata": {
        "id": "Pt7-HxocAKE8"
      },
      "source": [
        "##Which product categories have the highest revenue?"
      ]
    },
    {
      "cell_type": "code",
      "execution_count": 45,
      "metadata": {
        "colab": {
          "base_uri": "https://localhost:8080/"
        },
        "id": "cJzZ7kqYJN3m",
        "outputId": "dee7e354-ce3d-48af-9469-5625cb9dce37"
      },
      "outputs": [
        {
          "output_type": "execute_result",
          "data": {
            "text/plain": [
              "product_type\n",
              "Jacket      357026.0\n",
              "Trousers    341174.0\n",
              "Shirt       333600.0\n",
              "Name: total_price, dtype: float64"
            ]
          },
          "metadata": {},
          "execution_count": 45
        }
      ],
      "source": [
        "product_type = general_df[['product_type' , 'total_price']].groupby('product_type').total_price.sum().sort_values(ascending=False)\n",
        "product_type"
      ]
    },
    {
      "cell_type": "code",
      "execution_count": 46,
      "metadata": {
        "colab": {
          "base_uri": "https://localhost:8080/",
          "height": 462
        },
        "id": "73CuJLmwJz_c",
        "outputId": "87147d16-5edf-4b71-d2f4-86ff73d1130d"
      },
      "outputs": [
        {
          "output_type": "execute_result",
          "data": {
            "text/plain": [
              "<BarContainer object of 3 artists>"
            ]
          },
          "metadata": {},
          "execution_count": 46
        },
        {
          "output_type": "display_data",
          "data": {
            "text/plain": [
              "<Figure size 1500x500 with 1 Axes>"
            ],
            "image/png": "[encoded data removed]"
          },
          "metadata": {}
        }
      ],
      "source": [
        "plt.figure(figsize=(15,5))\n",
        "plt.bar(product_type.index , product_type.values)"
      ]
    },
    {
      "cell_type": "markdown",
      "source": [
        "###Comments:\n",
        "* All 3 types of Trend products have similar recipes when analyzed by type."
      ],
      "metadata": {
        "id": "DRRQHCpd7ZWy"
      }
    },
    {
      "cell_type": "markdown",
      "metadata": {
        "id": "npqQdK-ilSjh"
      },
      "source": [
        "### What are the products that **BEST SELL** and are our \"champions\"? And which products SELL LESS so we can boost them."
      ]
    },
    {
      "cell_type": "code",
      "execution_count": 47,
      "metadata": {
        "id": "9HyZ3wAm6zSV"
      },
      "outputs": [],
      "source": [
        "best_sellers = general_df[['product_name' , 'product_type', 'total_price']].groupby('product_name').total_price.sum().sort_values(ascending=False)"
      ]
    },
    {
      "cell_type": "code",
      "execution_count": 48,
      "metadata": {
        "colab": {
          "base_uri": "https://localhost:8080/",
          "height": 556
        },
        "id": "VuCh9b0l-w7Q",
        "outputId": "6f8aa56e-2239-4930-9305-d18e3fe5ebcf"
      },
      "outputs": [
        {
          "output_type": "display_data",
          "data": {
            "text/plain": [
              "<Figure size 1500x500 with 1 Axes>"
            ],
            "image/png": "[encoded data removed]"
          },
          "metadata": {}
        }
      ],
      "source": [
        "#When analyzing the result, we can see that the product \"Denim\" stands out from the others, being an outlier in this query.\n",
        "plt.figure(figsize=(15,5))\n",
        "plt.bar(best_sellers.index , best_sellers.values)\n",
        "plt.xticks(rotation=90)\n",
        "plt.show()"
      ]
    },
    {
      "cell_type": "code",
      "execution_count": 49,
      "metadata": {
        "colab": {
          "base_uri": "https://localhost:8080/",
          "height": 1000
        },
        "id": "E3sW7vJahoLK",
        "outputId": "c5f9e7a0-beb4-4aba-d831-dcaa4732a13a"
      },
      "outputs": [
        {
          "output_type": "execute_result",
          "data": {
            "text/plain": [
              "         product_name product_type  total_price\n",
              "4     Casual Slim Fit        Shirt      36414.0\n",
              "33        Trench Coat       Jacket      35581.0\n",
              "30          Shearling       Jacket      35334.0\n",
              "27             Puffer       Jacket      35164.0\n",
              "15            Flannel        Shirt      33158.0\n",
              "9             Cropped     Trousers      32660.0\n",
              "25            Pleated     Trousers      32340.0\n",
              "18            Joggers     Trousers      31062.0\n",
              "5            Chambray        Shirt      30740.0\n",
              "23              Parka       Jacket      30397.0\n",
              "0              Bomber       Jacket      29700.0\n",
              "6              Chinos     Trousers      29380.0\n",
              "34        Windbreaker       Jacket      29274.0\n",
              "2            Cardigan       Jacket      29120.0\n",
              "24            Peacoat       Jacket      28994.0\n",
              "32  Tracksuit Bottoms     Trousers      28784.0\n",
              "31           Slim-Fit     Trousers      27936.0\n",
              "11              Denim       Jacket      27927.0\n",
              "22       Oxford Cloth        Shirt      27744.0\n",
              "13         Drawstring     Trousers      27648.0\n",
              "17       High-Waisted     Trousers      27522.0\n",
              "1       Camp Collared        Shirt      27342.0\n",
              "3         Cargo Pants     Trousers      27234.0\n",
              "29        Relaxed Leg     Trousers      27090.0\n",
              "10       Cuban Collar        Shirt      26670.0\n",
              "16             Henley        Shirt      26414.0\n",
              "35               Wool     Trousers      26394.0\n",
              "19            Leather       Jacket      25774.0\n",
              "21    Mandarin Collar        Shirt      25724.0\n",
              "14              Dress        Shirt      25272.0\n",
              "28           Pullover       Jacket      25116.0\n",
              "26               Polo        Shirt      25080.0\n",
              "7               Coach       Jacket      24645.0\n",
              "20              Linen        Shirt      24570.0\n",
              "12              Denim        Shirt      24472.0\n",
              "8               Cords     Trousers      23124.0"
            ],
            "text/html": [
              "\n",
              "  <div id=\"df-aab52e75-a3a5-4193-826f-f3eb60fce3f8\" class=\"colab-df-container\">\n",
              "    <div>\n",
              "<style scoped>\n",
              "    .dataframe tbody tr th:only-of-type {\n",
              "        vertical-align: middle;\n",
              "    }\n",
              "\n",
              "    .dataframe tbody tr th {\n",
              "        vertical-align: top;\n",
              "    }\n",
              "\n",
              "    .dataframe thead th {\n",
              "        text-align: right;\n",
              "    }\n",
              "</style>\n",
              "<table border=\"1\" class=\"dataframe\">\n",
              "  <thead>\n",
              "    <tr style=\"text-align: right;\">\n",
              "      <th></th>\n",
              "      <th>product_name</th>\n",
              "      <th>product_type</th>\n",
              "      <th>total_price</th>\n",
              "    </tr>\n",
              "  </thead>\n",
              "  <tbody>\n",
              "    <tr>\n",
              "      <th>4</th>\n",
              "      <td>Casual Slim Fit</td>\n",
              "      <td>Shirt</td>\n",
              "      <td>36414.0</td>\n",
              "    </tr>\n",
              "    <tr>\n",
              "      <th>33</th>\n",
              "      <td>Trench Coat</td>\n",
              "      <td>Jacket</td>\n",
              "      <td>35581.0</td>\n",
              "    </tr>\n",
              "    <tr>\n",
              "      <th>30</th>\n",
              "      <td>Shearling</td>\n",
              "      <td>Jacket</td>\n",
              "      <td>35334.0</td>\n",
              "    </tr>\n",
              "    <tr>\n",
              "      <th>27</th>\n",
              "      <td>Puffer</td>\n",
              "      <td>Jacket</td>\n",
              "      <td>35164.0</td>\n",
              "    </tr>\n",
              "    <tr>\n",
              "      <th>15</th>\n",
              "      <td>Flannel</td>\n",
              "      <td>Shirt</td>\n",
              "      <td>33158.0</td>\n",
              "    </tr>\n",
              "    <tr>\n",
              "      <th>9</th>\n",
              "      <td>Cropped</td>\n",
              "      <td>Trousers</td>\n",
              "      <td>32660.0</td>\n",
              "    </tr>\n",
              "    <tr>\n",
              "      <th>25</th>\n",
              "      <td>Pleated</td>\n",
              "      <td>Trousers</td>\n",
              "      <td>32340.0</td>\n",
              "    </tr>\n",
              "    <tr>\n",
              "      <th>18</th>\n",
              "      <td>Joggers</td>\n",
              "      <td>Trousers</td>\n",
              "      <td>31062.0</td>\n",
              "    </tr>\n",
              "    <tr>\n",
              "      <th>5</th>\n",
              "      <td>Chambray</td>\n",
              "      <td>Shirt</td>\n",
              "      <td>30740.0</td>\n",
              "    </tr>\n",
              "    <tr>\n",
              "      <th>23</th>\n",
              "      <td>Parka</td>\n",
              "      <td>Jacket</td>\n",
              "      <td>30397.0</td>\n",
              "    </tr>\n",
              "    <tr>\n",
              "      <th>0</th>\n",
              "      <td>Bomber</td>\n",
              "      <td>Jacket</td>\n",
              "      <td>29700.0</td>\n",
              "    </tr>\n",
              "    <tr>\n",
              "      <th>6</th>\n",
              "      <td>Chinos</td>\n",
              "      <td>Trousers</td>\n",
              "      <td>29380.0</td>\n",
              "    </tr>\n",
              "    <tr>\n",
              "      <th>34</th>\n",
              "      <td>Windbreaker</td>\n",
              "      <td>Jacket</td>\n",
              "      <td>29274.0</td>\n",
              "    </tr>\n",
              "    <tr>\n",
              "      <th>2</th>\n",
              "      <td>Cardigan</td>\n",
              "      <td>Jacket</td>\n",
              "      <td>29120.0</td>\n",
              "    </tr>\n",
              "    <tr>\n",
              "      <th>24</th>\n",
              "      <td>Peacoat</td>\n",
              "      <td>Jacket</td>\n",
              "      <td>28994.0</td>\n",
              "    </tr>\n",
              "    <tr>\n",
              "      <th>32</th>\n",
              "      <td>Tracksuit Bottoms</td>\n",
              "      <td>Trousers</td>\n",
              "      <td>28784.0</td>\n",
              "    </tr>\n",
              "    <tr>\n",
              "      <th>31</th>\n",
              "      <td>Slim-Fit</td>\n",
              "      <td>Trousers</td>\n",
              "      <td>27936.0</td>\n",
              "    </tr>\n",
              "    <tr>\n",
              "      <th>11</th>\n",
              "      <td>Denim</td>\n",
              "      <td>Jacket</td>\n",
              "      <td>27927.0</td>\n",
              "    </tr>\n",
              "    <tr>\n",
              "      <th>22</th>\n",
              "      <td>Oxford Cloth</td>\n",
              "      <td>Shirt</td>\n",
              "      <td>27744.0</td>\n",
              "    </tr>\n",
              "    <tr>\n",
              "      <th>13</th>\n",
              "      <td>Drawstring</td>\n",
              "      <td>Trousers</td>\n",
              "      <td>27648.0</td>\n",
              "    </tr>\n",
              "    <tr>\n",
              "      <th>17</th>\n",
              "      <td>High-Waisted</td>\n",
              "      <td>Trousers</td>\n",
              "      <td>27522.0</td>\n",
              "    </tr>\n",
              "    <tr>\n",
              "      <th>1</th>\n",
              "      <td>Camp Collared</td>\n",
              "      <td>Shirt</td>\n",
              "      <td>27342.0</td>\n",
              "    </tr>\n",
              "    <tr>\n",
              "      <th>3</th>\n",
              "      <td>Cargo Pants</td>\n",
              "      <td>Trousers</td>\n",
              "      <td>27234.0</td>\n",
              "    </tr>\n",
              "    <tr>\n",
              "      <th>29</th>\n",
              "      <td>Relaxed Leg</td>\n",
              "      <td>Trousers</td>\n",
              "      <td>27090.0</td>\n",
              "    </tr>\n",
              "    <tr>\n",
              "      <th>10</th>\n",
              "      <td>Cuban Collar</td>\n",
              "      <td>Shirt</td>\n",
              "      <td>26670.0</td>\n",
              "    </tr>\n",
              "    <tr>\n",
              "      <th>16</th>\n",
              "      <td>Henley</td>\n",
              "      <td>Shirt</td>\n",
              "      <td>26414.0</td>\n",
              "    </tr>\n",
              "    <tr>\n",
              "      <th>35</th>\n",
              "      <td>Wool</td>\n",
              "      <td>Trousers</td>\n",
              "      <td>26394.0</td>\n",
              "    </tr>\n",
              "    <tr>\n",
              "      <th>19</th>\n",
              "      <td>Leather</td>\n",
              "      <td>Jacket</td>\n",
              "      <td>25774.0</td>\n",
              "    </tr>\n",
              "    <tr>\n",
              "      <th>21</th>\n",
              "      <td>Mandarin Collar</td>\n",
              "      <td>Shirt</td>\n",
              "      <td>25724.0</td>\n",
              "    </tr>\n",
              "    <tr>\n",
              "      <th>14</th>\n",
              "      <td>Dress</td>\n",
              "      <td>Shirt</td>\n",
              "      <td>25272.0</td>\n",
              "    </tr>\n",
              "    <tr>\n",
              "      <th>28</th>\n",
              "      <td>Pullover</td>\n",
              "      <td>Jacket</td>\n",
              "      <td>25116.0</td>\n",
              "    </tr>\n",
              "    <tr>\n",
              "      <th>26</th>\n",
              "      <td>Polo</td>\n",
              "      <td>Shirt</td>\n",
              "      <td>25080.0</td>\n",
              "    </tr>\n",
              "    <tr>\n",
              "      <th>7</th>\n",
              "      <td>Coach</td>\n",
              "      <td>Jacket</td>\n",
              "      <td>24645.0</td>\n",
              "    </tr>\n",
              "    <tr>\n",
              "      <th>20</th>\n",
              "      <td>Linen</td>\n",
              "      <td>Shirt</td>\n",
              "      <td>24570.0</td>\n",
              "    </tr>\n",
              "    <tr>\n",
              "      <th>12</th>\n",
              "      <td>Denim</td>\n",
              "      <td>Shirt</td>\n",
              "      <td>24472.0</td>\n",
              "    </tr>\n",
              "    <tr>\n",
              "      <th>8</th>\n",
              "      <td>Cords</td>\n",
              "      <td>Trousers</td>\n",
              "      <td>23124.0</td>\n",
              "    </tr>\n",
              "  </tbody>\n",
              "</table>\n",
              "</div>\n",
              "    <div class=\"colab-df-buttons\">\n",
              "\n",
              "  <div class=\"colab-df-container\">\n",
              "    <button class=\"colab-df-convert\" onclick=\"convertToInteractive('df-aab52e75-a3a5-4193-826f-f3eb60fce3f8')\"\n",
              "            title=\"Convert this dataframe to an interactive table.\"\n",
              "            style=\"display:none;\">\n",
              "\n",
              "  <svg xmlns=\"http://www.w3.org/2000/svg\" height=\"24px\" viewBox=\"0 -960 960 960\">\n",
              "    <path d=\"M120-120v-720h720v720H120Zm60-500h600v-160H180v160Zm220 220h160v-160H400v160Zm0 220h160v-160H400v160ZM180-400h160v-160H180v160Zm440 0h160v-160H620v160ZM180-180h160v-160H180v160Zm440 0h160v-160H620v160Z\"/>\n",
              "  </svg>\n",
              "    </button>\n",
              "\n",
              "  <style>\n",
              "    .colab-df-container {\n",
              "      display:flex;\n",
              "      gap: 12px;\n",
              "    }\n",
              "\n",
              "    .colab-df-convert {\n",
              "      background-color: #E8F0FE;\n",
              "      border: none;\n",
              "      border-radius: 50%;\n",
              "      cursor: pointer;\n",
              "      display: none;\n",
              "      fill: #1967D2;\n",
              "      height: 32px;\n",
              "      padding: 0 0 0 0;\n",
              "      width: 32px;\n",
              "    }\n",
              "\n",
              "    .colab-df-convert:hover {\n",
              "      background-color: #E2EBFA;\n",
              "      box-shadow: 0px 1px 2px rgba(60, 64, 67, 0.3), 0px 1px 3px 1px rgba(60, 64, 67, 0.15);\n",
              "      fill: #174EA6;\n",
              "    }\n",
              "\n",
              "    .colab-df-buttons div {\n",
              "      margin-bottom: 4px;\n",
              "    }\n",
              "\n",
              "    [theme=dark] .colab-df-convert {\n",
              "      background-color: #3B4455;\n",
              "      fill: #D2E3FC;\n",
              "    }\n",
              "\n",
              "    [theme=dark] .colab-df-convert:hover {\n",
              "      background-color: #434B5C;\n",
              "      box-shadow: 0px 1px 3px 1px rgba(0, 0, 0, 0.15);\n",
              "      filter: drop-shadow(0px 1px 2px rgba(0, 0, 0, 0.3));\n",
              "      fill: #FFFFFF;\n",
              "    }\n",
              "  </style>\n",
              "\n",
              "    <script>\n",
              "      const buttonEl =\n",
              "        document.querySelector('#df-aab52e75-a3a5-4193-826f-f3eb60fce3f8 button.colab-df-convert');\n",
              "      buttonEl.style.display =\n",
              "        google.colab.kernel.accessAllowed ? 'block' : 'none';\n",
              "\n",
              "      async function convertToInteractive(key) {\n",
              "        const element = document.querySelector('#df-aab52e75-a3a5-4193-826f-f3eb60fce3f8');\n",
              "        const dataTable =\n",
              "          await google.colab.kernel.invokeFunction('convertToInteractive',\n",
              "                                                    [key], {});\n",
              "        if (!dataTable) return;\n",
              "\n",
              "        const docLinkHtml = 'Like what you see? Visit the ' +\n",
              "          '<a target=\"_blank\" href=https://colab.research.google.com/notebooks/data_table.ipynb>data table notebook</a>'\n",
              "          + ' to learn more about interactive tables.';\n",
              "        element.innerHTML = '';\n",
              "        dataTable['output_type'] = 'display_data';\n",
              "        await google.colab.output.renderOutput(dataTable, element);\n",
              "        const docLink = document.createElement('div');\n",
              "        docLink.innerHTML = docLinkHtml;\n",
              "        element.appendChild(docLink);\n",
              "      }\n",
              "    </script>\n",
              "  </div>\n",
              "\n",
              "\n",
              "<div id=\"df-b08b7b34-0e28-4930-a645-3e95c9da5b10\">\n",
              "  <button class=\"colab-df-quickchart\" onclick=\"quickchart('df-b08b7b34-0e28-4930-a645-3e95c9da5b10')\"\n",
              "            title=\"Suggest charts\"\n",
              "            style=\"display:none;\">\n",
              "\n",
              "<svg xmlns=\"http://www.w3.org/2000/svg\" height=\"24px\"viewBox=\"0 0 24 24\"\n",
              "     width=\"24px\">\n",
              "    <g>\n",
              "        <path d=\"M19 3H5c-1.1 0-2 .9-2 2v14c0 1.1.9 2 2 2h14c1.1 0 2-.9 2-2V5c0-1.1-.9-2-2-2zM9 17H7v-7h2v7zm4 0h-2V7h2v10zm4 0h-2v-4h2v4z\"/>\n",
              "    </g>\n",
              "</svg>\n",
              "  </button>\n",
              "\n",
              "<style>\n",
              "  .colab-df-quickchart {\n",
              "      --bg-color: #E8F0FE;\n",
              "      --fill-color: #1967D2;\n",
              "      --hover-bg-color: #E2EBFA;\n",
              "      --hover-fill-color: #174EA6;\n",
              "      --disabled-fill-color: #AAA;\n",
              "      --disabled-bg-color: #DDD;\n",
              "  }\n",
              "\n",
              "  [theme=dark] .colab-df-quickchart {\n",
              "      --bg-color: #3B4455;\n",
              "      --fill-color: #D2E3FC;\n",
              "      --hover-bg-color: #434B5C;\n",
              "      --hover-fill-color: #FFFFFF;\n",
              "      --disabled-bg-color: #3B4455;\n",
              "      --disabled-fill-color: #666;\n",
              "  }\n",
              "\n",
              "  .colab-df-quickchart {\n",
              "    background-color: var(--bg-color);\n",
              "    border: none;\n",
              "    border-radius: 50%;\n",
              "    cursor: pointer;\n",
              "    display: none;\n",
              "    fill: var(--fill-color);\n",
              "    height: 32px;\n",
              "    padding: 0;\n",
              "    width: 32px;\n",
              "  }\n",
              "\n",
              "  .colab-df-quickchart:hover {\n",
              "    background-color: var(--hover-bg-color);\n",
              "    box-shadow: 0 1px 2px rgba(60, 64, 67, 0.3), 0 1px 3px 1px rgba(60, 64, 67, 0.15);\n",
              "    fill: var(--button-hover-fill-color);\n",
              "  }\n",
              "\n",
              "  .colab-df-quickchart-complete:disabled,\n",
              "  .colab-df-quickchart-complete:disabled:hover {\n",
              "    background-color: var(--disabled-bg-color);\n",
              "    fill: var(--disabled-fill-color);\n",
              "    box-shadow: none;\n",
              "  }\n",
              "\n",
              "  .colab-df-spinner {\n",
              "    border: 2px solid var(--fill-color);\n",
              "    border-color: transparent;\n",
              "    border-bottom-color: var(--fill-color);\n",
              "    animation:\n",
              "      spin 1s steps(1) infinite;\n",
              "  }\n",
              "\n",
              "  @keyframes spin {\n",
              "    0% {\n",
              "      border-color: transparent;\n",
              "      border-bottom-color: var(--fill-color);\n",
              "      border-left-color: var(--fill-color);\n",
              "    }\n",
              "    20% {\n",
              "      border-color: transparent;\n",
              "      border-left-color: var(--fill-color);\n",
              "      border-top-color: var(--fill-color);\n",
              "    }\n",
              "    30% {\n",
              "      border-color: transparent;\n",
              "      border-left-color: var(--fill-color);\n",
              "      border-top-color: var(--fill-color);\n",
              "      border-right-color: var(--fill-color);\n",
              "    }\n",
              "    40% {\n",
              "      border-color: transparent;\n",
              "      border-right-color: var(--fill-color);\n",
              "      border-top-color: var(--fill-color);\n",
              "    }\n",
              "    60% {\n",
              "      border-color: transparent;\n",
              "      border-right-color: var(--fill-color);\n",
              "    }\n",
              "    80% {\n",
              "      border-color: transparent;\n",
              "      border-right-color: var(--fill-color);\n",
              "      border-bottom-color: var(--fill-color);\n",
              "    }\n",
              "    90% {\n",
              "      border-color: transparent;\n",
              "      border-bottom-color: var(--fill-color);\n",
              "    }\n",
              "  }\n",
              "</style>\n",
              "\n",
              "  <script>\n",
              "    async function quickchart(key) {\n",
              "      const quickchartButtonEl =\n",
              "        document.querySelector('#' + key + ' button');\n",
              "      quickchartButtonEl.disabled = true;  // To prevent multiple clicks.\n",
              "      quickchartButtonEl.classList.add('colab-df-spinner');\n",
              "      try {\n",
              "        const charts = await google.colab.kernel.invokeFunction(\n",
              "            'suggestCharts', [key], {});\n",
              "      } catch (error) {\n",
              "        console.error('Error during call to suggestCharts:', error);\n",
              "      }\n",
              "      quickchartButtonEl.classList.remove('colab-df-spinner');\n",
              "      quickchartButtonEl.classList.add('colab-df-quickchart-complete');\n",
              "    }\n",
              "    (() => {\n",
              "      let quickchartButtonEl =\n",
              "        document.querySelector('#df-b08b7b34-0e28-4930-a645-3e95c9da5b10 button');\n",
              "      quickchartButtonEl.style.display =\n",
              "        google.colab.kernel.accessAllowed ? 'block' : 'none';\n",
              "    })();\n",
              "  </script>\n",
              "</div>\n",
              "\n",
              "  <div id=\"id_fe900324-46eb-4723-b2d5-31447a28ee48\">\n",
              "    <style>\n",
              "      .colab-df-generate {\n",
              "        background-color: #E8F0FE;\n",
              "        border: none;\n",
              "        border-radius: 50%;\n",
              "        cursor: pointer;\n",
              "        display: none;\n",
              "        fill: #1967D2;\n",
              "        height: 32px;\n",
              "        padding: 0 0 0 0;\n",
              "        width: 32px;\n",
              "      }\n",
              "\n",
              "      .colab-df-generate:hover {\n",
              "        background-color: #E2EBFA;\n",
              "        box-shadow: 0px 1px 2px rgba(60, 64, 67, 0.3), 0px 1px 3px 1px rgba(60, 64, 67, 0.15);\n",
              "        fill: #174EA6;\n",
              "      }\n",
              "\n",
              "      [theme=dark] .colab-df-generate {\n",
              "        background-color: #3B4455;\n",
              "        fill: #D2E3FC;\n",
              "      }\n",
              "\n",
              "      [theme=dark] .colab-df-generate:hover {\n",
              "        background-color: #434B5C;\n",
              "        box-shadow: 0px 1px 3px 1px rgba(0, 0, 0, 0.15);\n",
              "        filter: drop-shadow(0px 1px 2px rgba(0, 0, 0, 0.3));\n",
              "        fill: #FFFFFF;\n",
              "      }\n",
              "    </style>\n",
              "    <button class=\"colab-df-generate\" onclick=\"generateWithVariable('best_sellers')\"\n",
              "            title=\"Generate code using this dataframe.\"\n",
              "            style=\"display:none;\">\n",
              "\n",
              "  <svg xmlns=\"http://www.w3.org/2000/svg\" height=\"24px\"viewBox=\"0 0 24 24\"\n",
              "       width=\"24px\">\n",
              "    <path d=\"M7,19H8.4L18.45,9,17,7.55,7,17.6ZM5,21V16.75L18.45,3.32a2,2,0,0,1,2.83,0l1.4,1.43a1.91,1.91,0,0,1,.58,1.4,1.91,1.91,0,0,1-.58,1.4L9.25,21ZM18.45,9,17,7.55Zm-12,3A5.31,5.31,0,0,0,4.9,8.1,5.31,5.31,0,0,0,1,6.5,5.31,5.31,0,0,0,4.9,4.9,5.31,5.31,0,0,0,6.5,1,5.31,5.31,0,0,0,8.1,4.9,5.31,5.31,0,0,0,12,6.5,5.46,5.46,0,0,0,6.5,12Z\"/>\n",
              "  </svg>\n",
              "    </button>\n",
              "    <script>\n",
              "      (() => {\n",
              "      const buttonEl =\n",
              "        document.querySelector('#id_fe900324-46eb-4723-b2d5-31447a28ee48 button.colab-df-generate');\n",
              "      buttonEl.style.display =\n",
              "        google.colab.kernel.accessAllowed ? 'block' : 'none';\n",
              "\n",
              "      buttonEl.onclick = () => {\n",
              "        google.colab.notebook.generateWithVariable('best_sellers');\n",
              "      }\n",
              "      })();\n",
              "    </script>\n",
              "  </div>\n",
              "\n",
              "    </div>\n",
              "  </div>\n"
            ]
          },
          "metadata": {},
          "execution_count": 49
        }
      ],
      "source": [
        "#In a more in-depth analysis, we separated the products by type and name. In this, we noticed that the product \"Demin\" has 2 types and the combined revenue of the two types made it an outlier. Now we have the result of total revenue by product and type.\n",
        "best_sellers = general_df[['product_name', 'product_type', 'total_price']].groupby(['product_name', 'product_type']).total_price.sum().reset_index().sort_values(by='total_price', ascending=False)\n",
        "best_sellers"
      ]
    },
    {
      "cell_type": "code",
      "execution_count": 50,
      "metadata": {
        "id": "F1AN657h5zLg",
        "colab": {
          "base_uri": "https://localhost:8080/",
          "height": 741
        },
        "outputId": "aae83f51-2aa8-4524-eab9-c4b7e5c9cc0b"
      },
      "outputs": [
        {
          "output_type": "display_data",
          "data": {
            "text/plain": [
              "<Figure size 1200x600 with 1 Axes>"
            ],
            "image/png": "[encoded data removed]"
          },
          "metadata": {}
        }
      ],
      "source": [
        "plt.figure(figsize=(12, 6))\n",
        "plt.bar(x=best_sellers['product_name'] + ', ' + best_sellers['product_type'], height=best_sellers['total_price'])\n",
        "plt.title('Revenue per Product')\n",
        "plt.xlabel('Name of product and Type')\n",
        "plt.ylabel('Sales amount')\n",
        "plt.xticks(rotation=90)\n",
        "plt.show()"
      ]
    },
    {
      "cell_type": "markdown",
      "source": [
        "###Comments:\n",
        "* 4 products stand out in generating revenue. Turning over 35,000 in the year\n",
        "* \"Cords, Trousers\" is the worst product when it comes to revenue generation, earning less than 25,000 in the year.\n",
        "* Other products are between 25,000 and 35,000 in revenue generation per year."
      ],
      "metadata": {
        "id": "3t9xw1yU75tm"
      }
    },
    {
      "cell_type": "markdown",
      "metadata": {
        "id": "JSww5QfwA04W"
      },
      "source": [
        "##Which products are best sold in quantity?"
      ]
    },
    {
      "cell_type": "code",
      "execution_count": 51,
      "metadata": {
        "id": "7yJdFYM8E9vO",
        "colab": {
          "base_uri": "https://localhost:8080/",
          "height": 1000
        },
        "outputId": "40e608ed-b5fe-429c-89e2-16ce0b05ea90"
      },
      "outputs": [
        {
          "output_type": "execute_result",
          "data": {
            "text/plain": [
              "         product_name product_type  quantity\n",
              "18            Joggers     Trousers       334\n",
              "25            Pleated     Trousers       308\n",
              "4     Casual Slim Fit        Shirt       306\n",
              "30          Shearling       Jacket       302\n",
              "29        Relaxed Leg     Trousers       301\n",
              "33        Trench Coat       Jacket       299\n",
              "27             Puffer       Jacket       298\n",
              "0              Bomber       Jacket       297\n",
              "5            Chambray        Shirt       290\n",
              "22       Oxford Cloth        Shirt       289\n",
              "13         Drawstring     Trousers       288\n",
              "31           Slim-Fit     Trousers       288\n",
              "34        Windbreaker       Jacket       287\n",
              "9             Cropped     Trousers       284\n",
              "15            Flannel        Shirt       281\n",
              "16             Henley        Shirt       281\n",
              "1       Camp Collared        Shirt       279\n",
              "17       High-Waisted     Trousers       278\n",
              "28           Pullover       Jacket       276\n",
              "20              Linen        Shirt       270\n",
              "23              Parka       Jacket       269\n",
              "3         Cargo Pants     Trousers       267\n",
              "24            Peacoat       Jacket       266\n",
              "12              Denim        Shirt       266\n",
              "7               Coach       Jacket       265\n",
              "26               Polo        Shirt       264\n",
              "19            Leather       Jacket       263\n",
              "11              Denim       Jacket       261\n",
              "2            Cardigan       Jacket       260\n",
              "6              Chinos     Trousers       260\n",
              "32  Tracksuit Bottoms     Trousers       257\n",
              "10       Cuban Collar        Shirt       254\n",
              "35               Wool     Trousers       249\n",
              "8               Cords     Trousers       246\n",
              "14              Dress        Shirt       243\n",
              "21    Mandarin Collar        Shirt       236"
            ],
            "text/html": [
              "\n",
              "  <div id=\"df-19ffc74c-cd52-463d-aad7-3e73ff69cfb3\" class=\"colab-df-container\">\n",
              "    <div>\n",
              "<style scoped>\n",
              "    .dataframe tbody tr th:only-of-type {\n",
              "        vertical-align: middle;\n",
              "    }\n",
              "\n",
              "    .dataframe tbody tr th {\n",
              "        vertical-align: top;\n",
              "    }\n",
              "\n",
              "    .dataframe thead th {\n",
              "        text-align: right;\n",
              "    }\n",
              "</style>\n",
              "<table border=\"1\" class=\"dataframe\">\n",
              "  <thead>\n",
              "    <tr style=\"text-align: right;\">\n",
              "      <th></th>\n",
              "      <th>product_name</th>\n",
              "      <th>product_type</th>\n",
              "      <th>quantity</th>\n",
              "    </tr>\n",
              "  </thead>\n",
              "  <tbody>\n",
              "    <tr>\n",
              "      <th>18</th>\n",
              "      <td>Joggers</td>\n",
              "      <td>Trousers</td>\n",
              "      <td>334</td>\n",
              "    </tr>\n",
              "    <tr>\n",
              "      <th>25</th>\n",
              "      <td>Pleated</td>\n",
              "      <td>Trousers</td>\n",
              "      <td>308</td>\n",
              "    </tr>\n",
              "    <tr>\n",
              "      <th>4</th>\n",
              "      <td>Casual Slim Fit</td>\n",
              "      <td>Shirt</td>\n",
              "      <td>306</td>\n",
              "    </tr>\n",
              "    <tr>\n",
              "      <th>30</th>\n",
              "      <td>Shearling</td>\n",
              "      <td>Jacket</td>\n",
              "      <td>302</td>\n",
              "    </tr>\n",
              "    <tr>\n",
              "      <th>29</th>\n",
              "      <td>Relaxed Leg</td>\n",
              "      <td>Trousers</td>\n",
              "      <td>301</td>\n",
              "    </tr>\n",
              "    <tr>\n",
              "      <th>33</th>\n",
              "      <td>Trench Coat</td>\n",
              "      <td>Jacket</td>\n",
              "      <td>299</td>\n",
              "    </tr>\n",
              "    <tr>\n",
              "      <th>27</th>\n",
              "      <td>Puffer</td>\n",
              "      <td>Jacket</td>\n",
              "      <td>298</td>\n",
              "    </tr>\n",
              "    <tr>\n",
              "      <th>0</th>\n",
              "      <td>Bomber</td>\n",
              "      <td>Jacket</td>\n",
              "      <td>297</td>\n",
              "    </tr>\n",
              "    <tr>\n",
              "      <th>5</th>\n",
              "      <td>Chambray</td>\n",
              "      <td>Shirt</td>\n",
              "      <td>290</td>\n",
              "    </tr>\n",
              "    <tr>\n",
              "      <th>22</th>\n",
              "      <td>Oxford Cloth</td>\n",
              "      <td>Shirt</td>\n",
              "      <td>289</td>\n",
              "    </tr>\n",
              "    <tr>\n",
              "      <th>13</th>\n",
              "      <td>Drawstring</td>\n",
              "      <td>Trousers</td>\n",
              "      <td>288</td>\n",
              "    </tr>\n",
              "    <tr>\n",
              "      <th>31</th>\n",
              "      <td>Slim-Fit</td>\n",
              "      <td>Trousers</td>\n",
              "      <td>288</td>\n",
              "    </tr>\n",
              "    <tr>\n",
              "      <th>34</th>\n",
              "      <td>Windbreaker</td>\n",
              "      <td>Jacket</td>\n",
              "      <td>287</td>\n",
              "    </tr>\n",
              "    <tr>\n",
              "      <th>9</th>\n",
              "      <td>Cropped</td>\n",
              "      <td>Trousers</td>\n",
              "      <td>284</td>\n",
              "    </tr>\n",
              "    <tr>\n",
              "      <th>15</th>\n",
              "      <td>Flannel</td>\n",
              "      <td>Shirt</td>\n",
              "      <td>281</td>\n",
              "    </tr>\n",
              "    <tr>\n",
              "      <th>16</th>\n",
              "      <td>Henley</td>\n",
              "      <td>Shirt</td>\n",
              "      <td>281</td>\n",
              "    </tr>\n",
              "    <tr>\n",
              "      <th>1</th>\n",
              "      <td>Camp Collared</td>\n",
              "      <td>Shirt</td>\n",
              "      <td>279</td>\n",
              "    </tr>\n",
              "    <tr>\n",
              "      <th>17</th>\n",
              "      <td>High-Waisted</td>\n",
              "      <td>Trousers</td>\n",
              "      <td>278</td>\n",
              "    </tr>\n",
              "    <tr>\n",
              "      <th>28</th>\n",
              "      <td>Pullover</td>\n",
              "      <td>Jacket</td>\n",
              "      <td>276</td>\n",
              "    </tr>\n",
              "    <tr>\n",
              "      <th>20</th>\n",
              "      <td>Linen</td>\n",
              "      <td>Shirt</td>\n",
              "      <td>270</td>\n",
              "    </tr>\n",
              "    <tr>\n",
              "      <th>23</th>\n",
              "      <td>Parka</td>\n",
              "      <td>Jacket</td>\n",
              "      <td>269</td>\n",
              "    </tr>\n",
              "    <tr>\n",
              "      <th>3</th>\n",
              "      <td>Cargo Pants</td>\n",
              "      <td>Trousers</td>\n",
              "      <td>267</td>\n",
              "    </tr>\n",
              "    <tr>\n",
              "      <th>24</th>\n",
              "      <td>Peacoat</td>\n",
              "      <td>Jacket</td>\n",
              "      <td>266</td>\n",
              "    </tr>\n",
              "    <tr>\n",
              "      <th>12</th>\n",
              "      <td>Denim</td>\n",
              "      <td>Shirt</td>\n",
              "      <td>266</td>\n",
              "    </tr>\n",
              "    <tr>\n",
              "      <th>7</th>\n",
              "      <td>Coach</td>\n",
              "      <td>Jacket</td>\n",
              "      <td>265</td>\n",
              "    </tr>\n",
              "    <tr>\n",
              "      <th>26</th>\n",
              "      <td>Polo</td>\n",
              "      <td>Shirt</td>\n",
              "      <td>264</td>\n",
              "    </tr>\n",
              "    <tr>\n",
              "      <th>19</th>\n",
              "      <td>Leather</td>\n",
              "      <td>Jacket</td>\n",
              "      <td>263</td>\n",
              "    </tr>\n",
              "    <tr>\n",
              "      <th>11</th>\n",
              "      <td>Denim</td>\n",
              "      <td>Jacket</td>\n",
              "      <td>261</td>\n",
              "    </tr>\n",
              "    <tr>\n",
              "      <th>2</th>\n",
              "      <td>Cardigan</td>\n",
              "      <td>Jacket</td>\n",
              "      <td>260</td>\n",
              "    </tr>\n",
              "    <tr>\n",
              "      <th>6</th>\n",
              "      <td>Chinos</td>\n",
              "      <td>Trousers</td>\n",
              "      <td>260</td>\n",
              "    </tr>\n",
              "    <tr>\n",
              "      <th>32</th>\n",
              "      <td>Tracksuit Bottoms</td>\n",
              "      <td>Trousers</td>\n",
              "      <td>257</td>\n",
              "    </tr>\n",
              "    <tr>\n",
              "      <th>10</th>\n",
              "      <td>Cuban Collar</td>\n",
              "      <td>Shirt</td>\n",
              "      <td>254</td>\n",
              "    </tr>\n",
              "    <tr>\n",
              "      <th>35</th>\n",
              "      <td>Wool</td>\n",
              "      <td>Trousers</td>\n",
              "      <td>249</td>\n",
              "    </tr>\n",
              "    <tr>\n",
              "      <th>8</th>\n",
              "      <td>Cords</td>\n",
              "      <td>Trousers</td>\n",
              "      <td>246</td>\n",
              "    </tr>\n",
              "    <tr>\n",
              "      <th>14</th>\n",
              "      <td>Dress</td>\n",
              "      <td>Shirt</td>\n",
              "      <td>243</td>\n",
              "    </tr>\n",
              "    <tr>\n",
              "      <th>21</th>\n",
              "      <td>Mandarin Collar</td>\n",
              "      <td>Shirt</td>\n",
              "      <td>236</td>\n",
              "    </tr>\n",
              "  </tbody>\n",
              "</table>\n",
              "</div>\n",
              "    <div class=\"colab-df-buttons\">\n",
              "\n",
              "  <div class=\"colab-df-container\">\n",
              "    <button class=\"colab-df-convert\" onclick=\"convertToInteractive('df-19ffc74c-cd52-463d-aad7-3e73ff69cfb3')\"\n",
              "            title=\"Convert this dataframe to an interactive table.\"\n",
              "            style=\"display:none;\">\n",
              "\n",
              "  <svg xmlns=\"http://www.w3.org/2000/svg\" height=\"24px\" viewBox=\"0 -960 960 960\">\n",
              "    <path d=\"M120-120v-720h720v720H120Zm60-500h600v-160H180v160Zm220 220h160v-160H400v160Zm0 220h160v-160H400v160ZM180-400h160v-160H180v160Zm440 0h160v-160H620v160ZM180-180h160v-160H180v160Zm440 0h160v-160H620v160Z\"/>\n",
              "  </svg>\n",
              "    </button>\n",
              "\n",
              "  <style>\n",
              "    .colab-df-container {\n",
              "      display:flex;\n",
              "      gap: 12px;\n",
              "    }\n",
              "\n",
              "    .colab-df-convert {\n",
              "      background-color: #E8F0FE;\n",
              "      border: none;\n",
              "      border-radius: 50%;\n",
              "      cursor: pointer;\n",
              "      display: none;\n",
              "      fill: #1967D2;\n",
              "      height: 32px;\n",
              "      padding: 0 0 0 0;\n",
              "      width: 32px;\n",
              "    }\n",
              "\n",
              "    .colab-df-convert:hover {\n",
              "      background-color: #E2EBFA;\n",
              "      box-shadow: 0px 1px 2px rgba(60, 64, 67, 0.3), 0px 1px 3px 1px rgba(60, 64, 67, 0.15);\n",
              "      fill: #174EA6;\n",
              "    }\n",
              "\n",
              "    .colab-df-buttons div {\n",
              "      margin-bottom: 4px;\n",
              "    }\n",
              "\n",
              "    [theme=dark] .colab-df-convert {\n",
              "      background-color: #3B4455;\n",
              "      fill: #D2E3FC;\n",
              "    }\n",
              "\n",
              "    [theme=dark] .colab-df-convert:hover {\n",
              "      background-color: #434B5C;\n",
              "      box-shadow: 0px 1px 3px 1px rgba(0, 0, 0, 0.15);\n",
              "      filter: drop-shadow(0px 1px 2px rgba(0, 0, 0, 0.3));\n",
              "      fill: #FFFFFF;\n",
              "    }\n",
              "  </style>\n",
              "\n",
              "    <script>\n",
              "      const buttonEl =\n",
              "        document.querySelector('#df-19ffc74c-cd52-463d-aad7-3e73ff69cfb3 button.colab-df-convert');\n",
              "      buttonEl.style.display =\n",
              "        google.colab.kernel.accessAllowed ? 'block' : 'none';\n",
              "\n",
              "      async function convertToInteractive(key) {\n",
              "        const element = document.querySelector('#df-19ffc74c-cd52-463d-aad7-3e73ff69cfb3');\n",
              "        const dataTable =\n",
              "          await google.colab.kernel.invokeFunction('convertToInteractive',\n",
              "                                                    [key], {});\n",
              "        if (!dataTable) return;\n",
              "\n",
              "        const docLinkHtml = 'Like what you see? Visit the ' +\n",
              "          '<a target=\"_blank\" href=https://colab.research.google.com/notebooks/data_table.ipynb>data table notebook</a>'\n",
              "          + ' to learn more about interactive tables.';\n",
              "        element.innerHTML = '';\n",
              "        dataTable['output_type'] = 'display_data';\n",
              "        await google.colab.output.renderOutput(dataTable, element);\n",
              "        const docLink = document.createElement('div');\n",
              "        docLink.innerHTML = docLinkHtml;\n",
              "        element.appendChild(docLink);\n",
              "      }\n",
              "    </script>\n",
              "  </div>\n",
              "\n",
              "\n",
              "<div id=\"df-9b302b03-9324-4f17-9f99-a9a213145cbe\">\n",
              "  <button class=\"colab-df-quickchart\" onclick=\"quickchart('df-9b302b03-9324-4f17-9f99-a9a213145cbe')\"\n",
              "            title=\"Suggest charts\"\n",
              "            style=\"display:none;\">\n",
              "\n",
              "<svg xmlns=\"http://www.w3.org/2000/svg\" height=\"24px\"viewBox=\"0 0 24 24\"\n",
              "     width=\"24px\">\n",
              "    <g>\n",
              "        <path d=\"M19 3H5c-1.1 0-2 .9-2 2v14c0 1.1.9 2 2 2h14c1.1 0 2-.9 2-2V5c0-1.1-.9-2-2-2zM9 17H7v-7h2v7zm4 0h-2V7h2v10zm4 0h-2v-4h2v4z\"/>\n",
              "    </g>\n",
              "</svg>\n",
              "  </button>\n",
              "\n",
              "<style>\n",
              "  .colab-df-quickchart {\n",
              "      --bg-color: #E8F0FE;\n",
              "      --fill-color: #1967D2;\n",
              "      --hover-bg-color: #E2EBFA;\n",
              "      --hover-fill-color: #174EA6;\n",
              "      --disabled-fill-color: #AAA;\n",
              "      --disabled-bg-color: #DDD;\n",
              "  }\n",
              "\n",
              "  [theme=dark] .colab-df-quickchart {\n",
              "      --bg-color: #3B4455;\n",
              "      --fill-color: #D2E3FC;\n",
              "      --hover-bg-color: #434B5C;\n",
              "      --hover-fill-color: #FFFFFF;\n",
              "      --disabled-bg-color: #3B4455;\n",
              "      --disabled-fill-color: #666;\n",
              "  }\n",
              "\n",
              "  .colab-df-quickchart {\n",
              "    background-color: var(--bg-color);\n",
              "    border: none;\n",
              "    border-radius: 50%;\n",
              "    cursor: pointer;\n",
              "    display: none;\n",
              "    fill: var(--fill-color);\n",
              "    height: 32px;\n",
              "    padding: 0;\n",
              "    width: 32px;\n",
              "  }\n",
              "\n",
              "  .colab-df-quickchart:hover {\n",
              "    background-color: var(--hover-bg-color);\n",
              "    box-shadow: 0 1px 2px rgba(60, 64, 67, 0.3), 0 1px 3px 1px rgba(60, 64, 67, 0.15);\n",
              "    fill: var(--button-hover-fill-color);\n",
              "  }\n",
              "\n",
              "  .colab-df-quickchart-complete:disabled,\n",
              "  .colab-df-quickchart-complete:disabled:hover {\n",
              "    background-color: var(--disabled-bg-color);\n",
              "    fill: var(--disabled-fill-color);\n",
              "    box-shadow: none;\n",
              "  }\n",
              "\n",
              "  .colab-df-spinner {\n",
              "    border: 2px solid var(--fill-color);\n",
              "    border-color: transparent;\n",
              "    border-bottom-color: var(--fill-color);\n",
              "    animation:\n",
              "      spin 1s steps(1) infinite;\n",
              "  }\n",
              "\n",
              "  @keyframes spin {\n",
              "    0% {\n",
              "      border-color: transparent;\n",
              "      border-bottom-color: var(--fill-color);\n",
              "      border-left-color: var(--fill-color);\n",
              "    }\n",
              "    20% {\n",
              "      border-color: transparent;\n",
              "      border-left-color: var(--fill-color);\n",
              "      border-top-color: var(--fill-color);\n",
              "    }\n",
              "    30% {\n",
              "      border-color: transparent;\n",
              "      border-left-color: var(--fill-color);\n",
              "      border-top-color: var(--fill-color);\n",
              "      border-right-color: var(--fill-color);\n",
              "    }\n",
              "    40% {\n",
              "      border-color: transparent;\n",
              "      border-right-color: var(--fill-color);\n",
              "      border-top-color: var(--fill-color);\n",
              "    }\n",
              "    60% {\n",
              "      border-color: transparent;\n",
              "      border-right-color: var(--fill-color);\n",
              "    }\n",
              "    80% {\n",
              "      border-color: transparent;\n",
              "      border-right-color: var(--fill-color);\n",
              "      border-bottom-color: var(--fill-color);\n",
              "    }\n",
              "    90% {\n",
              "      border-color: transparent;\n",
              "      border-bottom-color: var(--fill-color);\n",
              "    }\n",
              "  }\n",
              "</style>\n",
              "\n",
              "  <script>\n",
              "    async function quickchart(key) {\n",
              "      const quickchartButtonEl =\n",
              "        document.querySelector('#' + key + ' button');\n",
              "      quickchartButtonEl.disabled = true;  // To prevent multiple clicks.\n",
              "      quickchartButtonEl.classList.add('colab-df-spinner');\n",
              "      try {\n",
              "        const charts = await google.colab.kernel.invokeFunction(\n",
              "            'suggestCharts', [key], {});\n",
              "      } catch (error) {\n",
              "        console.error('Error during call to suggestCharts:', error);\n",
              "      }\n",
              "      quickchartButtonEl.classList.remove('colab-df-spinner');\n",
              "      quickchartButtonEl.classList.add('colab-df-quickchart-complete');\n",
              "    }\n",
              "    (() => {\n",
              "      let quickchartButtonEl =\n",
              "        document.querySelector('#df-9b302b03-9324-4f17-9f99-a9a213145cbe button');\n",
              "      quickchartButtonEl.style.display =\n",
              "        google.colab.kernel.accessAllowed ? 'block' : 'none';\n",
              "    })();\n",
              "  </script>\n",
              "</div>\n",
              "\n",
              "  <div id=\"id_defb21af-457b-41ff-a196-161c9e382814\">\n",
              "    <style>\n",
              "      .colab-df-generate {\n",
              "        background-color: #E8F0FE;\n",
              "        border: none;\n",
              "        border-radius: 50%;\n",
              "        cursor: pointer;\n",
              "        display: none;\n",
              "        fill: #1967D2;\n",
              "        height: 32px;\n",
              "        padding: 0 0 0 0;\n",
              "        width: 32px;\n",
              "      }\n",
              "\n",
              "      .colab-df-generate:hover {\n",
              "        background-color: #E2EBFA;\n",
              "        box-shadow: 0px 1px 2px rgba(60, 64, 67, 0.3), 0px 1px 3px 1px rgba(60, 64, 67, 0.15);\n",
              "        fill: #174EA6;\n",
              "      }\n",
              "\n",
              "      [theme=dark] .colab-df-generate {\n",
              "        background-color: #3B4455;\n",
              "        fill: #D2E3FC;\n",
              "      }\n",
              "\n",
              "      [theme=dark] .colab-df-generate:hover {\n",
              "        background-color: #434B5C;\n",
              "        box-shadow: 0px 1px 3px 1px rgba(0, 0, 0, 0.15);\n",
              "        filter: drop-shadow(0px 1px 2px rgba(0, 0, 0, 0.3));\n",
              "        fill: #FFFFFF;\n",
              "      }\n",
              "    </style>\n",
              "    <button class=\"colab-df-generate\" onclick=\"generateWithVariable('quantity_product')\"\n",
              "            title=\"Generate code using this dataframe.\"\n",
              "            style=\"display:none;\">\n",
              "\n",
              "  <svg xmlns=\"http://www.w3.org/2000/svg\" height=\"24px\"viewBox=\"0 0 24 24\"\n",
              "       width=\"24px\">\n",
              "    <path d=\"M7,19H8.4L18.45,9,17,7.55,7,17.6ZM5,21V16.75L18.45,3.32a2,2,0,0,1,2.83,0l1.4,1.43a1.91,1.91,0,0,1,.58,1.4,1.91,1.91,0,0,1-.58,1.4L9.25,21ZM18.45,9,17,7.55Zm-12,3A5.31,5.31,0,0,0,4.9,8.1,5.31,5.31,0,0,0,1,6.5,5.31,5.31,0,0,0,4.9,4.9,5.31,5.31,0,0,0,6.5,1,5.31,5.31,0,0,0,8.1,4.9,5.31,5.31,0,0,0,12,6.5,5.46,5.46,0,0,0,6.5,12Z\"/>\n",
              "  </svg>\n",
              "    </button>\n",
              "    <script>\n",
              "      (() => {\n",
              "      const buttonEl =\n",
              "        document.querySelector('#id_defb21af-457b-41ff-a196-161c9e382814 button.colab-df-generate');\n",
              "      buttonEl.style.display =\n",
              "        google.colab.kernel.accessAllowed ? 'block' : 'none';\n",
              "\n",
              "      buttonEl.onclick = () => {\n",
              "        google.colab.notebook.generateWithVariable('quantity_product');\n",
              "      }\n",
              "      })();\n",
              "    </script>\n",
              "  </div>\n",
              "\n",
              "    </div>\n",
              "  </div>\n"
            ]
          },
          "metadata": {},
          "execution_count": 51
        }
      ],
      "source": [
        "quantity_product = general_df[['product_name' , 'product_type' , 'quantity']].groupby(['product_name', 'product_type']).quantity.sum().reset_index().sort_values(by='quantity', ascending=False)\n",
        "quantity_product"
      ]
    },
    {
      "cell_type": "code",
      "execution_count": 52,
      "metadata": {
        "id": "cNI0CvHhGHRe",
        "colab": {
          "base_uri": "https://localhost:8080/",
          "height": 741
        },
        "outputId": "5b60c7d3-b6e1-4421-b5b7-3e6cf8f38650"
      },
      "outputs": [
        {
          "output_type": "display_data",
          "data": {
            "text/plain": [
              "<Figure size 1200x600 with 1 Axes>"
            ],
            "image/png": "[encoded data removed]"
          },
          "metadata": {}
        }
      ],
      "source": [
        "plt.figure(figsize=(12, 6))\n",
        "plt.bar(x=quantity_product['product_name'] + ', ' + quantity_product['product_type'], height=quantity_product['quantity'])\n",
        "plt.title('Best Selling Products by Type')\n",
        "plt.xlabel('Product Name and Type')\n",
        "plt.ylabel('Sales amount')\n",
        "plt.xticks(rotation=90)\n",
        "plt.show()"
      ]
    },
    {
      "cell_type": "markdown",
      "metadata": {
        "id": "KvQSH7sAAS8i"
      },
      "source": [
        "#Who are the main customers in terms of purchases? Is there a pattern of recurring purchases from some customers?"
      ]
    },
    {
      "cell_type": "markdown",
      "metadata": {
        "id": "VrYIvFYWqdNm"
      },
      "source": [
        "###Top 10 customers by overall revenue and quantity"
      ]
    },
    {
      "cell_type": "code",
      "execution_count": 53,
      "metadata": {
        "id": "GJ_XUMHqZyUX"
      },
      "outputs": [],
      "source": [
        "top_customer = general_df[['customer_name', 'total_price', 'quantity']].groupby('customer_name').sum([['total_price', 'quantity']]).sort_values(by='total_price', ascending=False).head(10)"
      ]
    },
    {
      "cell_type": "code",
      "source": [
        "top_customer = general_df[['customer_name', 'total_price', 'quantity']].groupby('customer_name').sum().sort_values(by='total_price', ascending=False).head(10)\n",
        "top_customer['avg_ticket'] = top_customer['total_price'] / top_customer['quantity']\n",
        "top_customer"
      ],
      "metadata": {
        "colab": {
          "base_uri": "https://localhost:8080/",
          "height": 394
        },
        "id": "od0cgefgDTg_",
        "outputId": "51f5f163-6de4-4cbd-e83e-d783eea9259e"
      },
      "execution_count": 54,
      "outputs": [
        {
          "output_type": "execute_result",
          "data": {
            "text/plain": [
              "                    total_price  quantity  avg_ticket\n",
              "customer_name                                        \n",
              "Wren Helgass             7632.0        74  103.135135\n",
              "Kristofor Roos           6640.0        64  103.750000\n",
              "Dannie Fidler            6341.0        59  107.474576\n",
              "Esteban Hensmans         5657.0        53  106.735849\n",
              "Crin Johnikin            5581.0        54  103.351852\n",
              "Melissa Partkya          5435.0        52  104.519231\n",
              "Thorny Nornable          5119.0        50  102.380000\n",
              "Saul Franklyn            4969.0        48  103.520833\n",
              "Mallory Castellani       4807.0        48  100.145833\n",
              "Herschel Verdey          4428.0        42  105.428571"
            ],
            "text/html": [
              "\n",
              "  <div id=\"df-a4788666-85af-499a-a830-a17f3561989b\" class=\"colab-df-container\">\n",
              "    <div>\n",
              "<style scoped>\n",
              "    .dataframe tbody tr th:only-of-type {\n",
              "        vertical-align: middle;\n",
              "    }\n",
              "\n",
              "    .dataframe tbody tr th {\n",
              "        vertical-align: top;\n",
              "    }\n",
              "\n",
              "    .dataframe thead th {\n",
              "        text-align: right;\n",
              "    }\n",
              "</style>\n",
              "<table border=\"1\" class=\"dataframe\">\n",
              "  <thead>\n",
              "    <tr style=\"text-align: right;\">\n",
              "      <th></th>\n",
              "      <th>total_price</th>\n",
              "      <th>quantity</th>\n",
              "      <th>avg_ticket</th>\n",
              "    </tr>\n",
              "    <tr>\n",
              "      <th>customer_name</th>\n",
              "      <th></th>\n",
              "      <th></th>\n",
              "      <th></th>\n",
              "    </tr>\n",
              "  </thead>\n",
              "  <tbody>\n",
              "    <tr>\n",
              "      <th>Wren Helgass</th>\n",
              "      <td>7632.0</td>\n",
              "      <td>74</td>\n",
              "      <td>103.135135</td>\n",
              "    </tr>\n",
              "    <tr>\n",
              "      <th>Kristofor Roos</th>\n",
              "      <td>6640.0</td>\n",
              "      <td>64</td>\n",
              "      <td>103.750000</td>\n",
              "    </tr>\n",
              "    <tr>\n",
              "      <th>Dannie Fidler</th>\n",
              "      <td>6341.0</td>\n",
              "      <td>59</td>\n",
              "      <td>107.474576</td>\n",
              "    </tr>\n",
              "    <tr>\n",
              "      <th>Esteban Hensmans</th>\n",
              "      <td>5657.0</td>\n",
              "      <td>53</td>\n",
              "      <td>106.735849</td>\n",
              "    </tr>\n",
              "    <tr>\n",
              "      <th>Crin Johnikin</th>\n",
              "      <td>5581.0</td>\n",
              "      <td>54</td>\n",
              "      <td>103.351852</td>\n",
              "    </tr>\n",
              "    <tr>\n",
              "      <th>Melissa Partkya</th>\n",
              "      <td>5435.0</td>\n",
              "      <td>52</td>\n",
              "      <td>104.519231</td>\n",
              "    </tr>\n",
              "    <tr>\n",
              "      <th>Thorny Nornable</th>\n",
              "      <td>5119.0</td>\n",
              "      <td>50</td>\n",
              "      <td>102.380000</td>\n",
              "    </tr>\n",
              "    <tr>\n",
              "      <th>Saul Franklyn</th>\n",
              "      <td>4969.0</td>\n",
              "      <td>48</td>\n",
              "      <td>103.520833</td>\n",
              "    </tr>\n",
              "    <tr>\n",
              "      <th>Mallory Castellani</th>\n",
              "      <td>4807.0</td>\n",
              "      <td>48</td>\n",
              "      <td>100.145833</td>\n",
              "    </tr>\n",
              "    <tr>\n",
              "      <th>Herschel Verdey</th>\n",
              "      <td>4428.0</td>\n",
              "      <td>42</td>\n",
              "      <td>105.428571</td>\n",
              "    </tr>\n",
              "  </tbody>\n",
              "</table>\n",
              "</div>\n",
              "    <div class=\"colab-df-buttons\">\n",
              "\n",
              "  <div class=\"colab-df-container\">\n",
              "    <button class=\"colab-df-convert\" onclick=\"convertToInteractive('df-a4788666-85af-499a-a830-a17f3561989b')\"\n",
              "            title=\"Convert this dataframe to an interactive table.\"\n",
              "            style=\"display:none;\">\n",
              "\n",
              "  <svg xmlns=\"http://www.w3.org/2000/svg\" height=\"24px\" viewBox=\"0 -960 960 960\">\n",
              "    <path d=\"M120-120v-720h720v720H120Zm60-500h600v-160H180v160Zm220 220h160v-160H400v160Zm0 220h160v-160H400v160ZM180-400h160v-160H180v160Zm440 0h160v-160H620v160ZM180-180h160v-160H180v160Zm440 0h160v-160H620v160Z\"/>\n",
              "  </svg>\n",
              "    </button>\n",
              "\n",
              "  <style>\n",
              "    .colab-df-container {\n",
              "      display:flex;\n",
              "      gap: 12px;\n",
              "    }\n",
              "\n",
              "    .colab-df-convert {\n",
              "      background-color: #E8F0FE;\n",
              "      border: none;\n",
              "      border-radius: 50%;\n",
              "      cursor: pointer;\n",
              "      display: none;\n",
              "      fill: #1967D2;\n",
              "      height: 32px;\n",
              "      padding: 0 0 0 0;\n",
              "      width: 32px;\n",
              "    }\n",
              "\n",
              "    .colab-df-convert:hover {\n",
              "      background-color: #E2EBFA;\n",
              "      box-shadow: 0px 1px 2px rgba(60, 64, 67, 0.3), 0px 1px 3px 1px rgba(60, 64, 67, 0.15);\n",
              "      fill: #174EA6;\n",
              "    }\n",
              "\n",
              "    .colab-df-buttons div {\n",
              "      margin-bottom: 4px;\n",
              "    }\n",
              "\n",
              "    [theme=dark] .colab-df-convert {\n",
              "      background-color: #3B4455;\n",
              "      fill: #D2E3FC;\n",
              "    }\n",
              "\n",
              "    [theme=dark] .colab-df-convert:hover {\n",
              "      background-color: #434B5C;\n",
              "      box-shadow: 0px 1px 3px 1px rgba(0, 0, 0, 0.15);\n",
              "      filter: drop-shadow(0px 1px 2px rgba(0, 0, 0, 0.3));\n",
              "      fill: #FFFFFF;\n",
              "    }\n",
              "  </style>\n",
              "\n",
              "    <script>\n",
              "      const buttonEl =\n",
              "        document.querySelector('#df-a4788666-85af-499a-a830-a17f3561989b button.colab-df-convert');\n",
              "      buttonEl.style.display =\n",
              "        google.colab.kernel.accessAllowed ? 'block' : 'none';\n",
              "\n",
              "      async function convertToInteractive(key) {\n",
              "        const element = document.querySelector('#df-a4788666-85af-499a-a830-a17f3561989b');\n",
              "        const dataTable =\n",
              "          await google.colab.kernel.invokeFunction('convertToInteractive',\n",
              "                                                    [key], {});\n",
              "        if (!dataTable) return;\n",
              "\n",
              "        const docLinkHtml = 'Like what you see? Visit the ' +\n",
              "          '<a target=\"_blank\" href=https://colab.research.google.com/notebooks/data_table.ipynb>data table notebook</a>'\n",
              "          + ' to learn more about interactive tables.';\n",
              "        element.innerHTML = '';\n",
              "        dataTable['output_type'] = 'display_data';\n",
              "        await google.colab.output.renderOutput(dataTable, element);\n",
              "        const docLink = document.createElement('div');\n",
              "        docLink.innerHTML = docLinkHtml;\n",
              "        element.appendChild(docLink);\n",
              "      }\n",
              "    </script>\n",
              "  </div>\n",
              "\n",
              "\n",
              "<div id=\"df-32038960-44cf-4d5f-b71f-49adba34f238\">\n",
              "  <button class=\"colab-df-quickchart\" onclick=\"quickchart('df-32038960-44cf-4d5f-b71f-49adba34f238')\"\n",
              "            title=\"Suggest charts\"\n",
              "            style=\"display:none;\">\n",
              "\n",
              "<svg xmlns=\"http://www.w3.org/2000/svg\" height=\"24px\"viewBox=\"0 0 24 24\"\n",
              "     width=\"24px\">\n",
              "    <g>\n",
              "        <path d=\"M19 3H5c-1.1 0-2 .9-2 2v14c0 1.1.9 2 2 2h14c1.1 0 2-.9 2-2V5c0-1.1-.9-2-2-2zM9 17H7v-7h2v7zm4 0h-2V7h2v10zm4 0h-2v-4h2v4z\"/>\n",
              "    </g>\n",
              "</svg>\n",
              "  </button>\n",
              "\n",
              "<style>\n",
              "  .colab-df-quickchart {\n",
              "      --bg-color: #E8F0FE;\n",
              "      --fill-color: #1967D2;\n",
              "      --hover-bg-color: #E2EBFA;\n",
              "      --hover-fill-color: #174EA6;\n",
              "      --disabled-fill-color: #AAA;\n",
              "      --disabled-bg-color: #DDD;\n",
              "  }\n",
              "\n",
              "  [theme=dark] .colab-df-quickchart {\n",
              "      --bg-color: #3B4455;\n",
              "      --fill-color: #D2E3FC;\n",
              "      --hover-bg-color: #434B5C;\n",
              "      --hover-fill-color: #FFFFFF;\n",
              "      --disabled-bg-color: #3B4455;\n",
              "      --disabled-fill-color: #666;\n",
              "  }\n",
              "\n",
              "  .colab-df-quickchart {\n",
              "    background-color: var(--bg-color);\n",
              "    border: none;\n",
              "    border-radius: 50%;\n",
              "    cursor: pointer;\n",
              "    display: none;\n",
              "    fill: var(--fill-color);\n",
              "    height: 32px;\n",
              "    padding: 0;\n",
              "    width: 32px;\n",
              "  }\n",
              "\n",
              "  .colab-df-quickchart:hover {\n",
              "    background-color: var(--hover-bg-color);\n",
              "    box-shadow: 0 1px 2px rgba(60, 64, 67, 0.3), 0 1px 3px 1px rgba(60, 64, 67, 0.15);\n",
              "    fill: var(--button-hover-fill-color);\n",
              "  }\n",
              "\n",
              "  .colab-df-quickchart-complete:disabled,\n",
              "  .colab-df-quickchart-complete:disabled:hover {\n",
              "    background-color: var(--disabled-bg-color);\n",
              "    fill: var(--disabled-fill-color);\n",
              "    box-shadow: none;\n",
              "  }\n",
              "\n",
              "  .colab-df-spinner {\n",
              "    border: 2px solid var(--fill-color);\n",
              "    border-color: transparent;\n",
              "    border-bottom-color: var(--fill-color);\n",
              "    animation:\n",
              "      spin 1s steps(1) infinite;\n",
              "  }\n",
              "\n",
              "  @keyframes spin {\n",
              "    0% {\n",
              "      border-color: transparent;\n",
              "      border-bottom-color: var(--fill-color);\n",
              "      border-left-color: var(--fill-color);\n",
              "    }\n",
              "    20% {\n",
              "      border-color: transparent;\n",
              "      border-left-color: var(--fill-color);\n",
              "      border-top-color: var(--fill-color);\n",
              "    }\n",
              "    30% {\n",
              "      border-color: transparent;\n",
              "      border-left-color: var(--fill-color);\n",
              "      border-top-color: var(--fill-color);\n",
              "      border-right-color: var(--fill-color);\n",
              "    }\n",
              "    40% {\n",
              "      border-color: transparent;\n",
              "      border-right-color: var(--fill-color);\n",
              "      border-top-color: var(--fill-color);\n",
              "    }\n",
              "    60% {\n",
              "      border-color: transparent;\n",
              "      border-right-color: var(--fill-color);\n",
              "    }\n",
              "    80% {\n",
              "      border-color: transparent;\n",
              "      border-right-color: var(--fill-color);\n",
              "      border-bottom-color: var(--fill-color);\n",
              "    }\n",
              "    90% {\n",
              "      border-color: transparent;\n",
              "      border-bottom-color: var(--fill-color);\n",
              "    }\n",
              "  }\n",
              "</style>\n",
              "\n",
              "  <script>\n",
              "    async function quickchart(key) {\n",
              "      const quickchartButtonEl =\n",
              "        document.querySelector('#' + key + ' button');\n",
              "      quickchartButtonEl.disabled = true;  // To prevent multiple clicks.\n",
              "      quickchartButtonEl.classList.add('colab-df-spinner');\n",
              "      try {\n",
              "        const charts = await google.colab.kernel.invokeFunction(\n",
              "            'suggestCharts', [key], {});\n",
              "      } catch (error) {\n",
              "        console.error('Error during call to suggestCharts:', error);\n",
              "      }\n",
              "      quickchartButtonEl.classList.remove('colab-df-spinner');\n",
              "      quickchartButtonEl.classList.add('colab-df-quickchart-complete');\n",
              "    }\n",
              "    (() => {\n",
              "      let quickchartButtonEl =\n",
              "        document.querySelector('#df-32038960-44cf-4d5f-b71f-49adba34f238 button');\n",
              "      quickchartButtonEl.style.display =\n",
              "        google.colab.kernel.accessAllowed ? 'block' : 'none';\n",
              "    })();\n",
              "  </script>\n",
              "</div>\n",
              "\n",
              "  <div id=\"id_7ac8f8cf-4253-4c01-bd54-ab357b6dc30a\">\n",
              "    <style>\n",
              "      .colab-df-generate {\n",
              "        background-color: #E8F0FE;\n",
              "        border: none;\n",
              "        border-radius: 50%;\n",
              "        cursor: pointer;\n",
              "        display: none;\n",
              "        fill: #1967D2;\n",
              "        height: 32px;\n",
              "        padding: 0 0 0 0;\n",
              "        width: 32px;\n",
              "      }\n",
              "\n",
              "      .colab-df-generate:hover {\n",
              "        background-color: #E2EBFA;\n",
              "        box-shadow: 0px 1px 2px rgba(60, 64, 67, 0.3), 0px 1px 3px 1px rgba(60, 64, 67, 0.15);\n",
              "        fill: #174EA6;\n",
              "      }\n",
              "\n",
              "      [theme=dark] .colab-df-generate {\n",
              "        background-color: #3B4455;\n",
              "        fill: #D2E3FC;\n",
              "      }\n",
              "\n",
              "      [theme=dark] .colab-df-generate:hover {\n",
              "        background-color: #434B5C;\n",
              "        box-shadow: 0px 1px 3px 1px rgba(0, 0, 0, 0.15);\n",
              "        filter: drop-shadow(0px 1px 2px rgba(0, 0, 0, 0.3));\n",
              "        fill: #FFFFFF;\n",
              "      }\n",
              "    </style>\n",
              "    <button class=\"colab-df-generate\" onclick=\"generateWithVariable('top_customer')\"\n",
              "            title=\"Generate code using this dataframe.\"\n",
              "            style=\"display:none;\">\n",
              "\n",
              "  <svg xmlns=\"http://www.w3.org/2000/svg\" height=\"24px\"viewBox=\"0 0 24 24\"\n",
              "       width=\"24px\">\n",
              "    <path d=\"M7,19H8.4L18.45,9,17,7.55,7,17.6ZM5,21V16.75L18.45,3.32a2,2,0,0,1,2.83,0l1.4,1.43a1.91,1.91,0,0,1,.58,1.4,1.91,1.91,0,0,1-.58,1.4L9.25,21ZM18.45,9,17,7.55Zm-12,3A5.31,5.31,0,0,0,4.9,8.1,5.31,5.31,0,0,0,1,6.5,5.31,5.31,0,0,0,4.9,4.9,5.31,5.31,0,0,0,6.5,1,5.31,5.31,0,0,0,8.1,4.9,5.31,5.31,0,0,0,12,6.5,5.46,5.46,0,0,0,6.5,12Z\"/>\n",
              "  </svg>\n",
              "    </button>\n",
              "    <script>\n",
              "      (() => {\n",
              "      const buttonEl =\n",
              "        document.querySelector('#id_7ac8f8cf-4253-4c01-bd54-ab357b6dc30a button.colab-df-generate');\n",
              "      buttonEl.style.display =\n",
              "        google.colab.kernel.accessAllowed ? 'block' : 'none';\n",
              "\n",
              "      buttonEl.onclick = () => {\n",
              "        google.colab.notebook.generateWithVariable('top_customer');\n",
              "      }\n",
              "      })();\n",
              "    </script>\n",
              "  </div>\n",
              "\n",
              "    </div>\n",
              "  </div>\n"
            ]
          },
          "metadata": {},
          "execution_count": 54
        }
      ]
    },
    {
      "cell_type": "markdown",
      "source": [
        "##Impact of revenue from top 10 customers on revenue in 2021"
      ],
      "metadata": {
        "id": "VhSXwb4yof9D"
      }
    },
    {
      "cell_type": "code",
      "source": [
        "total_top_customer = top_customer['total_price'].sum()\n",
        "impact_top_cutomers = (total_top_customer * 100) / total_sales\n",
        "print(f'The top 10 best customers represent {impact_top_cutomers:.2f}% of our revenue in 2021')"
      ],
      "metadata": {
        "colab": {
          "base_uri": "https://localhost:8080/"
        },
        "id": "7lep5h4cd-Ty",
        "outputId": "95d193e3-c697-4185-ccd9-6b5bb3fda057"
      },
      "execution_count": 55,
      "outputs": [
        {
          "output_type": "stream",
          "name": "stdout",
          "text": [
            "The top 10 best customers represent 5.49% of our revenue in 2021\n"
          ]
        }
      ]
    },
    {
      "cell_type": "markdown",
      "metadata": {
        "id": "_umSNGCjmDXi"
      },
      "source": [
        "##Sales by state\n"
      ]
    },
    {
      "cell_type": "code",
      "execution_count": 56,
      "metadata": {
        "id": "IpHok8NNmEeN",
        "colab": {
          "base_uri": "https://localhost:8080/"
        },
        "outputId": "60747a41-c5a8-4e68-8f46-a44fcda2e819"
      },
      "outputs": [
        {
          "output_type": "execute_result",
          "data": {
            "text/plain": [
              "state\n",
              "South Australia                 147816.0\n",
              "Queensland                      142062.0\n",
              "New South Wales                 131744.0\n",
              "Australian Capital Territory    130442.0\n",
              "Western Australia               125430.0\n",
              "Tasmania                        122095.0\n",
              "Victoria                        120357.0\n",
              "Northern Territory              111854.0\n",
              "Name: total_price, dtype: float64"
            ]
          },
          "metadata": {},
          "execution_count": 56
        }
      ],
      "source": [
        "revenue_state = general_df[['state', 'total_price']].groupby('state').total_price.sum().sort_values(ascending=False)\n",
        "revenue_state"
      ]
    },
    {
      "cell_type": "code",
      "execution_count": 57,
      "metadata": {
        "id": "UAXufrLhO_OV",
        "colab": {
          "base_uri": "https://localhost:8080/",
          "height": 573
        },
        "outputId": "b37aa766-f7bc-41ba-ea5c-33c8f166935f"
      },
      "outputs": [
        {
          "output_type": "display_data",
          "data": {
            "text/plain": [
              "<Figure size 1500x500 with 1 Axes>"
            ],
            "image/png": "[encoded data removed]"
          },
          "metadata": {}
        }
      ],
      "source": [
        "plt.figure(figsize=(15,5))\n",
        "plt.bar(revenue_state.index , revenue_state.values)\n",
        "plt.xticks(rotation=45)\n",
        "plt.show()"
      ]
    },
    {
      "cell_type": "markdown",
      "metadata": {
        "id": "kMZD2cXHV57B"
      },
      "source": [
        "#Sales by gender"
      ]
    },
    {
      "cell_type": "code",
      "execution_count": 58,
      "metadata": {
        "id": "EPK22r1dV86W",
        "colab": {
          "base_uri": "https://localhost:8080/"
        },
        "outputId": "21aa5cc8-52f3-4d9c-c986-ec13032fa5c9"
      },
      "outputs": [
        {
          "output_type": "execute_result",
          "data": {
            "text/plain": [
              "gender\n",
              "Female         145404.0\n",
              "Genderfluid    142077.0\n",
              "Male           138988.0\n",
              "Polygender     132548.0\n",
              "Genderqueer    132389.0\n",
              "Non-binary     126201.0\n",
              "Agender        107179.0\n",
              "Bigender       107014.0\n",
              "Name: total_price, dtype: float64"
            ]
          },
          "metadata": {},
          "execution_count": 58
        }
      ],
      "source": [
        "gender_revenue = general_df[['gender', 'total_price']].groupby('gender').total_price.sum().sort_values(ascending=False)\n",
        "gender_revenue"
      ]
    },
    {
      "cell_type": "code",
      "execution_count": 59,
      "metadata": {
        "id": "7hA0ZEdRXjsy",
        "colab": {
          "base_uri": "https://localhost:8080/",
          "height": 445
        },
        "outputId": "91849d20-2231-49e0-aaf6-620c4e9ba595"
      },
      "outputs": [
        {
          "output_type": "display_data",
          "data": {
            "text/plain": [
              "<Figure size 1500x500 with 1 Axes>"
            ],
            "image/png": "[encoded data removed]"
          },
          "metadata": {}
        }
      ],
      "source": [
        "plt.figure(figsize=(15,5))\n",
        "plt.bar(gender_revenue.index , gender_revenue.values)\n",
        "plt.show()"
      ]
    },
    {
      "cell_type": "markdown",
      "metadata": {
        "id": "n5dT54EuYRoG"
      },
      "source": [
        "##How many products on average did customers buy in 2021?\n"
      ]
    },
    {
      "cell_type": "code",
      "execution_count": 65,
      "metadata": {
        "id": "T48astsUYTpD",
        "colab": {
          "base_uri": "https://localhost:8080/"
        },
        "outputId": "d8af1581-59e4-4ea0-e6ee-88093d2e7ba6"
      },
      "outputs": [
        {
          "output_type": "stream",
          "name": "stdout",
          "text": [
            "Customers bought 2.0 products on average in 2021\n"
          ]
        }
      ],
      "source": [
        "avg_qtd = general_df['quantity'].mean()\n",
        "print(f'Customers bought {avg_qtd:.1f} products on average in 2021')"
      ]
    },
    {
      "cell_type": "markdown",
      "metadata": {
        "id": "vY90aS7sSTBI"
      },
      "source": [
        "##Average age of our customers"
      ]
    },
    {
      "cell_type": "code",
      "execution_count": 61,
      "metadata": {
        "id": "lOxAIjMNnZH_",
        "colab": {
          "base_uri": "https://localhost:8080/"
        },
        "outputId": "8b555b2f-b3cd-47a1-a6aa-3cac558352ad"
      },
      "outputs": [
        {
          "output_type": "stream",
          "name": "stdout",
          "text": [
            "The average age of our customers in 2021 was 49.9 years\n"
          ]
        }
      ],
      "source": [
        "avg_age = customer_df['age'].mean()\n",
        "print(f'The average age of our customers in 2021 was {avg_age:.1f} years')"
      ]
    },
    {
      "cell_type": "markdown",
      "metadata": {
        "id": "h4X_7r8yUDX1"
      },
      "source": [
        "##Average delivery time"
      ]
    },
    {
      "cell_type": "code",
      "execution_count": 62,
      "metadata": {
        "id": "PCAfVTUSnbt0",
        "colab": {
          "base_uri": "https://localhost:8080/"
        },
        "outputId": "70027b34-bf1c-4be3-fecd-1bf3eeb94418"
      },
      "outputs": [
        {
          "output_type": "stream",
          "name": "stdout",
          "text": [
            "Average delivery time is 14.0 days\n"
          ]
        }
      ],
      "source": [
        "general_df['delivery_time'] = (general_df.delivery_date - general_df.order_date).dt.days\n",
        "avg_dly_time = general_df['delivery_time'].mean()\n",
        "print(f'Average delivery time is {avg_dly_time:.1f} days')"
      ]
    },
    {
      "cell_type": "markdown",
      "metadata": {
        "id": "E3Z4DZKhbMiv"
      },
      "source": [
        "##Sales by size"
      ]
    },
    {
      "cell_type": "code",
      "execution_count": 63,
      "metadata": {
        "id": "Hg5ytnf0WGnT",
        "colab": {
          "base_uri": "https://localhost:8080/"
        },
        "outputId": "e6e9cd9b-d7a8-474d-ec25-0e77ea49f13c"
      },
      "outputs": [
        {
          "output_type": "execute_result",
          "data": {
            "text/plain": [
              "size\n",
              "M     2036\n",
              "L     1998\n",
              "S     1992\n",
              "XS    1990\n",
              "XL    1946\n",
              "Name: quantity, dtype: int64"
            ]
          },
          "metadata": {},
          "execution_count": 63
        }
      ],
      "source": [
        "general_df[['size' , 'quantity']].groupby('size').quantity.sum().sort_values(ascending=False)"
      ]
    },
    {
      "cell_type": "markdown",
      "metadata": {
        "id": "cOGUVfyFqu0e"
      },
      "source": [
        "##Sales by color"
      ]
    },
    {
      "cell_type": "code",
      "execution_count": 64,
      "metadata": {
        "id": "WOAn5MXfqxjV",
        "colab": {
          "base_uri": "https://localhost:8080/"
        },
        "outputId": "3764d795-a0a4-49b1-f8ff-b678dfa23f52"
      },
      "outputs": [
        {
          "output_type": "execute_result",
          "data": {
            "text/plain": [
              "colour\n",
              "blue      158220.0\n",
              "violet    149960.0\n",
              "indigo    149439.0\n",
              "red       145898.0\n",
              "yellow    144168.0\n",
              "green     143358.0\n",
              "orange    140757.0\n",
              "Name: total_price, dtype: float64"
            ]
          },
          "metadata": {},
          "execution_count": 64
        }
      ],
      "source": [
        "general_df[['colour' , 'total_price']].groupby('colour').total_price.sum().sort_values(ascending=False)"
      ]
    },
    {
      "cell_type": "markdown",
      "source": [
        "#Action proposal\n",
        "* Opportunity for campaigns to boost sales at the end of the year.\n",
        "* Continue investing in the LGBTQIA+ public as they are a large part of our revenue. Perhaps with specific campaigns.\n",
        "* Trying to invest in logistics to reduce the average delivery time, which is one of our competitive differentiators.\n",
        "* Aim for revenue greater than 100,000\n",
        "* Increase the quantity per custumer"
      ],
      "metadata": {
        "id": "JPAOE1LD6tX0"
      }
    },
    {
      "cell_type": "markdown",
      "source": [
        "#Persona\n",
        "\n",
        "* Women aged around 48 who live in large centers in Australia (South Australia or Queensland)\n",
        "* LGBTQIA+ people aged around 48 who live in large centers in Australia  (South Australia or Queensland)."
      ],
      "metadata": {
        "id": "LyzuiyRJqIrT"
      }
    }
  ],
  "metadata": {
    "colab": {
      "provenance": [],
      "include_colab_link": true
    },
    "kernelspec": {
      "display_name": "Python 3",
      "name": "python3"
    },
    "language_info": {
      "name": "python"
    }
  },
  "nbformat": 4,
  "nbformat_minor": 0
}